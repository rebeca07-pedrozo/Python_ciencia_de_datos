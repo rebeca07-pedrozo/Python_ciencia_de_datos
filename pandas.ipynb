{
  "nbformat": 4,
  "nbformat_minor": 0,
  "metadata": {
    "colab": {
      "provenance": [],
      "authorship_tag": "ABX9TyNWhyz/3JU6TRf21cF2Mgyd",
      "include_colab_link": true
    },
    "kernelspec": {
      "name": "python3",
      "display_name": "Python 3"
    },
    "language_info": {
      "name": "python"
    }
  },
  "cells": [
    {
      "cell_type": "markdown",
      "metadata": {
        "id": "view-in-github",
        "colab_type": "text"
      },
      "source": [
        "<a href=\"https://colab.research.google.com/github/rebeca07-pedrozo/Python_ciencia_de_datos/blob/main/pandas.ipynb\" target=\"_parent\"><img src=\"https://colab.research.google.com/assets/colab-badge.svg\" alt=\"Open In Colab\"/></a>"
      ]
    },
    {
      "cell_type": "code",
      "source": [
        "import pandas as pd"
      ],
      "metadata": {
        "id": "bECWxsM-nKwk"
      },
      "execution_count": null,
      "outputs": []
    },
    {
      "cell_type": "code",
      "source": [
        "# Montar Google Drive\n",
        "import google.colab.drive\n",
        "google.colab.drive.mount('/content/drive')\n",
        "\n",
        "# Ruta al archivo\n",
        "file_path = '/content/drive/My Drive/Online_Retail.csv'\n",
        "\n",
        "# Leer el archivo con la codificación adecuada\n",
        "import pandas as pd\n",
        "retail_data = pd.read_csv(file_path, encoding='latin1')\n",
        "\n",
        "# Mostrar las primeras filas\n",
        "print(retail_data.head())\n"
      ],
      "metadata": {
        "colab": {
          "base_uri": "https://localhost:8080/"
        },
        "id": "rkcib2VOujiN",
        "outputId": "428172c8-4e73-4ce5-a53a-539665057848"
      },
      "execution_count": null,
      "outputs": [
        {
          "output_type": "stream",
          "name": "stdout",
          "text": [
            "Mounted at /content/drive\n",
            "  InvoiceNo StockCode                          Description  Quantity  \\\n",
            "0    536365    85123A   WHITE HANGING HEART T-LIGHT HOLDER         6   \n",
            "1    536365     71053                  WHITE METAL LANTERN         6   \n",
            "2    536365    84406B       CREAM CUPID HEARTS COAT HANGER         8   \n",
            "3    536365    84029G  KNITTED UNION FLAG HOT WATER BOTTLE         6   \n",
            "4    536365    84029E       RED WOOLLY HOTTIE WHITE HEART.         6   \n",
            "\n",
            "    InvoiceDate  UnitPrice  CustomerID         Country  \n",
            "0  12/1/10 8:26       2.55     17850.0  United Kingdom  \n",
            "1  12/1/10 8:26       3.39     17850.0  United Kingdom  \n",
            "2  12/1/10 8:26       2.75     17850.0  United Kingdom  \n",
            "3  12/1/10 8:26       3.39     17850.0  United Kingdom  \n",
            "4  12/1/10 8:26       3.39     17850.0  United Kingdom  \n"
          ]
        }
      ]
    },
    {
      "cell_type": "code",
      "source": [
        "#path = '/content/Online_Retail.csv'\n",
        "#retail_data = pd.read_csv(path, encoding='latin1')\n",
        "#Excel\n",
        "#retail_data = pd.read_excel(path, encoding='latin1')\n",
        "#JSON\n",
        "#retail_data = pd.read_json(path, encoding='latin1')\n",
        "#print(type(retail_data))\n",
        "print(retail_data.head())\n"
      ],
      "metadata": {
        "colab": {
          "base_uri": "https://localhost:8080/"
        },
        "id": "p0fdaIx-nSDB",
        "outputId": "33de5f9d-cf94-49fb-9b30-eb1be3ed7857"
      },
      "execution_count": null,
      "outputs": [
        {
          "output_type": "stream",
          "name": "stdout",
          "text": [
            "  InvoiceNo StockCode                          Description  Quantity  \\\n",
            "0    536365    85123A   WHITE HANGING HEART T-LIGHT HOLDER         6   \n",
            "1    536365     71053                  WHITE METAL LANTERN         6   \n",
            "2    536365    84406B       CREAM CUPID HEARTS COAT HANGER         8   \n",
            "3    536365    84029G  KNITTED UNION FLAG HOT WATER BOTTLE         6   \n",
            "4    536365    84029E       RED WOOLLY HOTTIE WHITE HEART.         6   \n",
            "\n",
            "    InvoiceDate  UnitPrice  CustomerID         Country  \n",
            "0  12/1/10 8:26       2.55     17850.0  United Kingdom  \n",
            "1  12/1/10 8:26       3.39     17850.0  United Kingdom  \n",
            "2  12/1/10 8:26       2.75     17850.0  United Kingdom  \n",
            "3  12/1/10 8:26       3.39     17850.0  United Kingdom  \n",
            "4  12/1/10 8:26       3.39     17850.0  United Kingdom  \n"
          ]
        }
      ]
    },
    {
      "cell_type": "code",
      "source": [
        "retail_data.describe()"
      ],
      "metadata": {
        "colab": {
          "base_uri": "https://localhost:8080/",
          "height": 300
        },
        "id": "WYTfQwMH5rqM",
        "outputId": "52b3cfdf-39ec-4a91-8586-ba5b176f8a9b"
      },
      "execution_count": null,
      "outputs": [
        {
          "output_type": "execute_result",
          "data": {
            "text/plain": [
              "            Quantity      UnitPrice     CustomerID\n",
              "count  541909.000000  541909.000000  406829.000000\n",
              "mean        9.552250       4.611114   15287.690570\n",
              "std       218.081158      96.759853    1713.600303\n",
              "min    -80995.000000  -11062.060000   12346.000000\n",
              "25%         1.000000       1.250000   13953.000000\n",
              "50%         3.000000       2.080000   15152.000000\n",
              "75%        10.000000       4.130000   16791.000000\n",
              "max     80995.000000   38970.000000   18287.000000"
            ],
            "text/html": [
              "\n",
              "  <div id=\"df-bbea99e8-f360-452f-b9de-07e7c73c8f45\" class=\"colab-df-container\">\n",
              "    <div>\n",
              "<style scoped>\n",
              "    .dataframe tbody tr th:only-of-type {\n",
              "        vertical-align: middle;\n",
              "    }\n",
              "\n",
              "    .dataframe tbody tr th {\n",
              "        vertical-align: top;\n",
              "    }\n",
              "\n",
              "    .dataframe thead th {\n",
              "        text-align: right;\n",
              "    }\n",
              "</style>\n",
              "<table border=\"1\" class=\"dataframe\">\n",
              "  <thead>\n",
              "    <tr style=\"text-align: right;\">\n",
              "      <th></th>\n",
              "      <th>Quantity</th>\n",
              "      <th>UnitPrice</th>\n",
              "      <th>CustomerID</th>\n",
              "    </tr>\n",
              "  </thead>\n",
              "  <tbody>\n",
              "    <tr>\n",
              "      <th>count</th>\n",
              "      <td>541909.000000</td>\n",
              "      <td>541909.000000</td>\n",
              "      <td>406829.000000</td>\n",
              "    </tr>\n",
              "    <tr>\n",
              "      <th>mean</th>\n",
              "      <td>9.552250</td>\n",
              "      <td>4.611114</td>\n",
              "      <td>15287.690570</td>\n",
              "    </tr>\n",
              "    <tr>\n",
              "      <th>std</th>\n",
              "      <td>218.081158</td>\n",
              "      <td>96.759853</td>\n",
              "      <td>1713.600303</td>\n",
              "    </tr>\n",
              "    <tr>\n",
              "      <th>min</th>\n",
              "      <td>-80995.000000</td>\n",
              "      <td>-11062.060000</td>\n",
              "      <td>12346.000000</td>\n",
              "    </tr>\n",
              "    <tr>\n",
              "      <th>25%</th>\n",
              "      <td>1.000000</td>\n",
              "      <td>1.250000</td>\n",
              "      <td>13953.000000</td>\n",
              "    </tr>\n",
              "    <tr>\n",
              "      <th>50%</th>\n",
              "      <td>3.000000</td>\n",
              "      <td>2.080000</td>\n",
              "      <td>15152.000000</td>\n",
              "    </tr>\n",
              "    <tr>\n",
              "      <th>75%</th>\n",
              "      <td>10.000000</td>\n",
              "      <td>4.130000</td>\n",
              "      <td>16791.000000</td>\n",
              "    </tr>\n",
              "    <tr>\n",
              "      <th>max</th>\n",
              "      <td>80995.000000</td>\n",
              "      <td>38970.000000</td>\n",
              "      <td>18287.000000</td>\n",
              "    </tr>\n",
              "  </tbody>\n",
              "</table>\n",
              "</div>\n",
              "    <div class=\"colab-df-buttons\">\n",
              "\n",
              "  <div class=\"colab-df-container\">\n",
              "    <button class=\"colab-df-convert\" onclick=\"convertToInteractive('df-bbea99e8-f360-452f-b9de-07e7c73c8f45')\"\n",
              "            title=\"Convert this dataframe to an interactive table.\"\n",
              "            style=\"display:none;\">\n",
              "\n",
              "  <svg xmlns=\"http://www.w3.org/2000/svg\" height=\"24px\" viewBox=\"0 -960 960 960\">\n",
              "    <path d=\"M120-120v-720h720v720H120Zm60-500h600v-160H180v160Zm220 220h160v-160H400v160Zm0 220h160v-160H400v160ZM180-400h160v-160H180v160Zm440 0h160v-160H620v160ZM180-180h160v-160H180v160Zm440 0h160v-160H620v160Z\"/>\n",
              "  </svg>\n",
              "    </button>\n",
              "\n",
              "  <style>\n",
              "    .colab-df-container {\n",
              "      display:flex;\n",
              "      gap: 12px;\n",
              "    }\n",
              "\n",
              "    .colab-df-convert {\n",
              "      background-color: #E8F0FE;\n",
              "      border: none;\n",
              "      border-radius: 50%;\n",
              "      cursor: pointer;\n",
              "      display: none;\n",
              "      fill: #1967D2;\n",
              "      height: 32px;\n",
              "      padding: 0 0 0 0;\n",
              "      width: 32px;\n",
              "    }\n",
              "\n",
              "    .colab-df-convert:hover {\n",
              "      background-color: #E2EBFA;\n",
              "      box-shadow: 0px 1px 2px rgba(60, 64, 67, 0.3), 0px 1px 3px 1px rgba(60, 64, 67, 0.15);\n",
              "      fill: #174EA6;\n",
              "    }\n",
              "\n",
              "    .colab-df-buttons div {\n",
              "      margin-bottom: 4px;\n",
              "    }\n",
              "\n",
              "    [theme=dark] .colab-df-convert {\n",
              "      background-color: #3B4455;\n",
              "      fill: #D2E3FC;\n",
              "    }\n",
              "\n",
              "    [theme=dark] .colab-df-convert:hover {\n",
              "      background-color: #434B5C;\n",
              "      box-shadow: 0px 1px 3px 1px rgba(0, 0, 0, 0.15);\n",
              "      filter: drop-shadow(0px 1px 2px rgba(0, 0, 0, 0.3));\n",
              "      fill: #FFFFFF;\n",
              "    }\n",
              "  </style>\n",
              "\n",
              "    <script>\n",
              "      const buttonEl =\n",
              "        document.querySelector('#df-bbea99e8-f360-452f-b9de-07e7c73c8f45 button.colab-df-convert');\n",
              "      buttonEl.style.display =\n",
              "        google.colab.kernel.accessAllowed ? 'block' : 'none';\n",
              "\n",
              "      async function convertToInteractive(key) {\n",
              "        const element = document.querySelector('#df-bbea99e8-f360-452f-b9de-07e7c73c8f45');\n",
              "        const dataTable =\n",
              "          await google.colab.kernel.invokeFunction('convertToInteractive',\n",
              "                                                    [key], {});\n",
              "        if (!dataTable) return;\n",
              "\n",
              "        const docLinkHtml = 'Like what you see? Visit the ' +\n",
              "          '<a target=\"_blank\" href=https://colab.research.google.com/notebooks/data_table.ipynb>data table notebook</a>'\n",
              "          + ' to learn more about interactive tables.';\n",
              "        element.innerHTML = '';\n",
              "        dataTable['output_type'] = 'display_data';\n",
              "        await google.colab.output.renderOutput(dataTable, element);\n",
              "        const docLink = document.createElement('div');\n",
              "        docLink.innerHTML = docLinkHtml;\n",
              "        element.appendChild(docLink);\n",
              "      }\n",
              "    </script>\n",
              "  </div>\n",
              "\n",
              "\n",
              "    <div id=\"df-f07321b8-0ca5-461c-a70a-a43727d02bff\">\n",
              "      <button class=\"colab-df-quickchart\" onclick=\"quickchart('df-f07321b8-0ca5-461c-a70a-a43727d02bff')\"\n",
              "                title=\"Suggest charts\"\n",
              "                style=\"display:none;\">\n",
              "\n",
              "<svg xmlns=\"http://www.w3.org/2000/svg\" height=\"24px\"viewBox=\"0 0 24 24\"\n",
              "     width=\"24px\">\n",
              "    <g>\n",
              "        <path d=\"M19 3H5c-1.1 0-2 .9-2 2v14c0 1.1.9 2 2 2h14c1.1 0 2-.9 2-2V5c0-1.1-.9-2-2-2zM9 17H7v-7h2v7zm4 0h-2V7h2v10zm4 0h-2v-4h2v4z\"/>\n",
              "    </g>\n",
              "</svg>\n",
              "      </button>\n",
              "\n",
              "<style>\n",
              "  .colab-df-quickchart {\n",
              "      --bg-color: #E8F0FE;\n",
              "      --fill-color: #1967D2;\n",
              "      --hover-bg-color: #E2EBFA;\n",
              "      --hover-fill-color: #174EA6;\n",
              "      --disabled-fill-color: #AAA;\n",
              "      --disabled-bg-color: #DDD;\n",
              "  }\n",
              "\n",
              "  [theme=dark] .colab-df-quickchart {\n",
              "      --bg-color: #3B4455;\n",
              "      --fill-color: #D2E3FC;\n",
              "      --hover-bg-color: #434B5C;\n",
              "      --hover-fill-color: #FFFFFF;\n",
              "      --disabled-bg-color: #3B4455;\n",
              "      --disabled-fill-color: #666;\n",
              "  }\n",
              "\n",
              "  .colab-df-quickchart {\n",
              "    background-color: var(--bg-color);\n",
              "    border: none;\n",
              "    border-radius: 50%;\n",
              "    cursor: pointer;\n",
              "    display: none;\n",
              "    fill: var(--fill-color);\n",
              "    height: 32px;\n",
              "    padding: 0;\n",
              "    width: 32px;\n",
              "  }\n",
              "\n",
              "  .colab-df-quickchart:hover {\n",
              "    background-color: var(--hover-bg-color);\n",
              "    box-shadow: 0 1px 2px rgba(60, 64, 67, 0.3), 0 1px 3px 1px rgba(60, 64, 67, 0.15);\n",
              "    fill: var(--button-hover-fill-color);\n",
              "  }\n",
              "\n",
              "  .colab-df-quickchart-complete:disabled,\n",
              "  .colab-df-quickchart-complete:disabled:hover {\n",
              "    background-color: var(--disabled-bg-color);\n",
              "    fill: var(--disabled-fill-color);\n",
              "    box-shadow: none;\n",
              "  }\n",
              "\n",
              "  .colab-df-spinner {\n",
              "    border: 2px solid var(--fill-color);\n",
              "    border-color: transparent;\n",
              "    border-bottom-color: var(--fill-color);\n",
              "    animation:\n",
              "      spin 1s steps(1) infinite;\n",
              "  }\n",
              "\n",
              "  @keyframes spin {\n",
              "    0% {\n",
              "      border-color: transparent;\n",
              "      border-bottom-color: var(--fill-color);\n",
              "      border-left-color: var(--fill-color);\n",
              "    }\n",
              "    20% {\n",
              "      border-color: transparent;\n",
              "      border-left-color: var(--fill-color);\n",
              "      border-top-color: var(--fill-color);\n",
              "    }\n",
              "    30% {\n",
              "      border-color: transparent;\n",
              "      border-left-color: var(--fill-color);\n",
              "      border-top-color: var(--fill-color);\n",
              "      border-right-color: var(--fill-color);\n",
              "    }\n",
              "    40% {\n",
              "      border-color: transparent;\n",
              "      border-right-color: var(--fill-color);\n",
              "      border-top-color: var(--fill-color);\n",
              "    }\n",
              "    60% {\n",
              "      border-color: transparent;\n",
              "      border-right-color: var(--fill-color);\n",
              "    }\n",
              "    80% {\n",
              "      border-color: transparent;\n",
              "      border-right-color: var(--fill-color);\n",
              "      border-bottom-color: var(--fill-color);\n",
              "    }\n",
              "    90% {\n",
              "      border-color: transparent;\n",
              "      border-bottom-color: var(--fill-color);\n",
              "    }\n",
              "  }\n",
              "</style>\n",
              "\n",
              "      <script>\n",
              "        async function quickchart(key) {\n",
              "          const quickchartButtonEl =\n",
              "            document.querySelector('#' + key + ' button');\n",
              "          quickchartButtonEl.disabled = true;  // To prevent multiple clicks.\n",
              "          quickchartButtonEl.classList.add('colab-df-spinner');\n",
              "          try {\n",
              "            const charts = await google.colab.kernel.invokeFunction(\n",
              "                'suggestCharts', [key], {});\n",
              "          } catch (error) {\n",
              "            console.error('Error during call to suggestCharts:', error);\n",
              "          }\n",
              "          quickchartButtonEl.classList.remove('colab-df-spinner');\n",
              "          quickchartButtonEl.classList.add('colab-df-quickchart-complete');\n",
              "        }\n",
              "        (() => {\n",
              "          let quickchartButtonEl =\n",
              "            document.querySelector('#df-f07321b8-0ca5-461c-a70a-a43727d02bff button');\n",
              "          quickchartButtonEl.style.display =\n",
              "            google.colab.kernel.accessAllowed ? 'block' : 'none';\n",
              "        })();\n",
              "      </script>\n",
              "    </div>\n",
              "\n",
              "    </div>\n",
              "  </div>\n"
            ],
            "application/vnd.google.colaboratory.intrinsic+json": {
              "type": "dataframe",
              "summary": "{\n  \"name\": \"retail_data\",\n  \"rows\": 8,\n  \"fields\": [\n    {\n      \"column\": \"Quantity\",\n      \"properties\": {\n        \"dtype\": \"number\",\n        \"std\": 196412.42266088672,\n        \"min\": -80995.0,\n        \"max\": 541909.0,\n        \"num_unique_values\": 8,\n        \"samples\": [\n          9.55224954743324,\n          3.0,\n          541909.0\n        ],\n        \"semantic_type\": \"\",\n        \"description\": \"\"\n      }\n    },\n    {\n      \"column\": \"UnitPrice\",\n      \"properties\": {\n        \"dtype\": \"number\",\n        \"std\": 190752.07570771928,\n        \"min\": -11062.06,\n        \"max\": 541909.0,\n        \"num_unique_values\": 8,\n        \"samples\": [\n          4.611113626088513,\n          2.08,\n          541909.0\n        ],\n        \"semantic_type\": \"\",\n        \"description\": \"\"\n      }\n    },\n    {\n      \"column\": \"CustomerID\",\n      \"properties\": {\n        \"dtype\": \"number\",\n        \"std\": 139204.16800694188,\n        \"min\": 1713.6003033216632,\n        \"max\": 406829.0,\n        \"num_unique_values\": 8,\n        \"samples\": [\n          15287.690570239585,\n          15152.0,\n          406829.0\n        ],\n        \"semantic_type\": \"\",\n        \"description\": \"\"\n      }\n    }\n  ]\n}"
            }
          },
          "metadata": {},
          "execution_count": 15
        }
      ]
    },
    {
      "cell_type": "code",
      "source": [
        "import numpy as np"
      ],
      "metadata": {
        "id": "oXuClRJEqwht"
      },
      "execution_count": null,
      "outputs": []
    },
    {
      "cell_type": "code",
      "source": [
        "array = np.array([[1,2,3], [4,5,6], [7,8,9]])\n",
        "dt_from_array = pd.DataFrame(array, columns=['A', 'B', 'C' ])\n",
        "print(dt_from_array)"
      ],
      "metadata": {
        "colab": {
          "base_uri": "https://localhost:8080/"
        },
        "id": "MG-0kubRrDNj",
        "outputId": "f27ac05c-a754-47fc-f1ff-e6ea86c9fdb9"
      },
      "execution_count": null,
      "outputs": [
        {
          "output_type": "stream",
          "name": "stdout",
          "text": [
            "   A  B  C\n",
            "0  1  2  3\n",
            "1  4  5  6\n",
            "2  7  8  9\n"
          ]
        }
      ]
    },
    {
      "cell_type": "code",
      "source": [
        "data = ([1, 'Neco', 15], [ 2, 'Abel', 11], [3, 'Angela', 8])\n",
        "dt_from_array = pd.DataFrame(array, columns=['ID', 'NAME', 'AGE'])\n",
        "print(dt_from_array)"
      ],
      "metadata": {
        "colab": {
          "base_uri": "https://localhost:8080/"
        },
        "id": "5Z0x9uiNrkmN",
        "outputId": "4786e725-f7bb-4319-85d3-7948d9150ffe"
      },
      "execution_count": null,
      "outputs": [
        {
          "output_type": "stream",
          "name": "stdout",
          "text": [
            "   ID  NAME  AGE\n",
            "0   1     2    3\n",
            "1   4     5    6\n",
            "2   7     8    9\n"
          ]
        }
      ]
    },
    {
      "cell_type": "code",
      "source": [
        "data = [{'ID':1,\n",
        "         'Name': 'Elias',\n",
        "        'Age': 4}]\n",
        "ft_from_dic_list= pd.DataFrame(data)\n",
        "print(ft_from_dic_list)"
      ],
      "metadata": {
        "colab": {
          "base_uri": "https://localhost:8080/"
        },
        "id": "oyOwUVFSsza5",
        "outputId": "dc3ae760-7b53-414c-e25a-10dbad25416b"
      },
      "execution_count": null,
      "outputs": [
        {
          "output_type": "stream",
          "name": "stdout",
          "text": [
            "   ID   Name  Age\n",
            "0   1  Elias    4\n"
          ]
        }
      ]
    },
    {
      "cell_type": "code",
      "source": [
        "data = {'ID': [1], 'Name': ['Claudia'], 'Age': [ 1]}\n",
        "df_data=pd.DataFrame(data)\n",
        "print(df_data)"
      ],
      "metadata": {
        "colab": {
          "base_uri": "https://localhost:8080/"
        },
        "id": "57fO7p9EtPHW",
        "outputId": "b98dc0b9-dbfd-4b64-d78a-9d0ec1e4a50e"
      },
      "execution_count": null,
      "outputs": [
        {
          "output_type": "stream",
          "name": "stdout",
          "text": [
            "   ID     Name  Age\n",
            "0   1  Claudia    1\n"
          ]
        }
      ]
    },
    {
      "cell_type": "code",
      "source": [
        "data={'ID':pd.Series([1,2,3]),\n",
        "      'Name':pd.Series(['Neco', 'Rebeca', 'Abel']),\n",
        "      'Age':pd.Series([15,11,8])}\n",
        "df_data=pd.DataFrame(data)\n",
        "print(df_data)"
      ],
      "metadata": {
        "colab": {
          "base_uri": "https://localhost:8080/"
        },
        "id": "Kwmme0zNt5fk",
        "outputId": "028934b3-5a2e-4854-9f24-deba5490cc95"
      },
      "execution_count": null,
      "outputs": [
        {
          "output_type": "stream",
          "name": "stdout",
          "text": [
            "   ID    Name  Age\n",
            "0   1    Neco   15\n",
            "1   2  Rebeca   11\n",
            "2   3    Abel    8\n"
          ]
        }
      ]
    },
    {
      "cell_type": "code",
      "source": [
        "#Nombres de columnas\n",
        "column_names= retail_data.columns\n",
        "print(column_names)"
      ],
      "metadata": {
        "colab": {
          "base_uri": "https://localhost:8080/"
        },
        "id": "HBLrVjIeS4RF",
        "outputId": "fa898f14-7afe-48d8-a793-f71af50b9ae2"
      },
      "execution_count": null,
      "outputs": [
        {
          "output_type": "stream",
          "name": "stdout",
          "text": [
            "Index(['InvoiceNo', 'StockCode', 'Description', 'Quantity', 'InvoiceDate',\n",
            "       'UnitPrice', 'CustomerID', 'Country'],\n",
            "      dtype='object')\n"
          ]
        }
      ]
    },
    {
      "cell_type": "code",
      "source": [
        "num_rows, num_columns = retail_data.shape\n",
        "print(\"Numero de filas\", num_rows)\n",
        "print(\"Numero de columnas\", num_columns)"
      ],
      "metadata": {
        "colab": {
          "base_uri": "https://localhost:8080/"
        },
        "id": "0v5sVjtoTMOc",
        "outputId": "7cd1dd44-fb72-41b8-e807-4fb8171b3f20"
      },
      "execution_count": null,
      "outputs": [
        {
          "output_type": "stream",
          "name": "stdout",
          "text": [
            "Numero de filas 541909\n",
            "Numero de columnas 8\n"
          ]
        }
      ]
    },
    {
      "cell_type": "code",
      "source": [
        "summary= retail_data.describe()\n",
        "print(summary)"
      ],
      "metadata": {
        "colab": {
          "base_uri": "https://localhost:8080/"
        },
        "id": "7RyHEyxfVDYA",
        "outputId": "138953e4-b1a5-4d69-b670-42ab1546ac09"
      },
      "execution_count": null,
      "outputs": [
        {
          "output_type": "stream",
          "name": "stdout",
          "text": [
            "            Quantity      UnitPrice     CustomerID\n",
            "count  541909.000000  541909.000000  406829.000000\n",
            "mean        9.552250       4.611114   15287.690570\n",
            "std       218.081158      96.759853    1713.600303\n",
            "min    -80995.000000  -11062.060000   12346.000000\n",
            "25%         1.000000       1.250000   13953.000000\n",
            "50%         3.000000       2.080000   15152.000000\n",
            "75%        10.000000       4.130000   16791.000000\n",
            "max     80995.000000   38970.000000   18287.000000\n"
          ]
        }
      ]
    },
    {
      "cell_type": "code",
      "source": [
        "#Contar los valores no nulos\n",
        "count_dailySales= daily_sales.count()\n",
        "print(count_dailySales)"
      ],
      "metadata": {
        "colab": {
          "base_uri": "https://localhost:8080/",
          "height": 183
        },
        "id": "xSX5ANgnWXq-",
        "outputId": "c347cb21-94a9-4693-df25-bb1c78834b01"
      },
      "execution_count": null,
      "outputs": [
        {
          "output_type": "error",
          "ename": "NameError",
          "evalue": "name 'daily_sales' is not defined",
          "traceback": [
            "\u001b[0;31m---------------------------------------------------------------------------\u001b[0m",
            "\u001b[0;31mNameError\u001b[0m                                 Traceback (most recent call last)",
            "\u001b[0;32m/tmp/ipython-input-13-1470027704.py\u001b[0m in \u001b[0;36m<cell line: 0>\u001b[0;34m()\u001b[0m\n\u001b[1;32m      1\u001b[0m \u001b[0;31m#Contar los valores no nulos\u001b[0m\u001b[0;34m\u001b[0m\u001b[0;34m\u001b[0m\u001b[0m\n\u001b[0;32m----> 2\u001b[0;31m \u001b[0mcount_dailySales\u001b[0m\u001b[0;34m=\u001b[0m \u001b[0mdaily_sales\u001b[0m\u001b[0;34m.\u001b[0m\u001b[0mcount\u001b[0m\u001b[0;34m(\u001b[0m\u001b[0;34m)\u001b[0m\u001b[0;34m\u001b[0m\u001b[0;34m\u001b[0m\u001b[0m\n\u001b[0m\u001b[1;32m      3\u001b[0m \u001b[0mprint\u001b[0m\u001b[0;34m(\u001b[0m\u001b[0mcount_dailySales\u001b[0m\u001b[0;34m)\u001b[0m\u001b[0;34m\u001b[0m\u001b[0;34m\u001b[0m\u001b[0m\n",
            "\u001b[0;31mNameError\u001b[0m: name 'daily_sales' is not defined"
          ]
        }
      ]
    },
    {
      "cell_type": "code",
      "source": [
        "retail_data.head()"
      ],
      "metadata": {
        "id": "J8CMyK80WcSr"
      },
      "execution_count": null,
      "outputs": []
    },
    {
      "cell_type": "code",
      "source": [
        "first_row=retail_data.iloc[0]\n",
        "print(first_row)"
      ],
      "metadata": {
        "id": "_1e0lSd-ggpl"
      },
      "execution_count": null,
      "outputs": []
    },
    {
      "cell_type": "code",
      "source": [
        "ZeroToFive=retail_data.iloc[:5]\n",
        "print(ZeroToFive)"
      ],
      "metadata": {
        "id": "Ju2s6LHkg62H"
      },
      "execution_count": null,
      "outputs": []
    },
    {
      "cell_type": "code",
      "source": [
        "#primero fila, luego columna\n",
        "subset=retail_data.iloc[:5, :3]\n",
        "print(subset)"
      ],
      "metadata": {
        "id": "utU7GENph4Ca"
      },
      "execution_count": null,
      "outputs": []
    },
    {
      "cell_type": "code",
      "source": [
        "#datos especificos\n",
        "subset=retail_data.iloc[1, 0]\n",
        "print(subset)"
      ],
      "metadata": {
        "id": "NDa284UniNj6"
      },
      "execution_count": null,
      "outputs": []
    },
    {
      "cell_type": "code",
      "source": [
        "row_index=retail_data.loc[:4]\n",
        "print(row_index)"
      ],
      "metadata": {
        "id": "zkpQtYcu464U"
      },
      "execution_count": null,
      "outputs": []
    },
    {
      "cell_type": "code",
      "source": [
        "row_index=retail_data.loc[:5, ['Quantity', 'CustomerID', 'UnitPrice']]\n",
        "print(row_index)"
      ],
      "metadata": {
        "id": "czPoFpVB5CBt"
      },
      "execution_count": null,
      "outputs": []
    },
    {
      "cell_type": "markdown",
      "source": [
        "missing_data=retail_data.isna()\n",
        "print(missing_data)\n"
      ],
      "metadata": {
        "id": "ChcVCA6d8P6O"
      }
    },
    {
      "cell_type": "code",
      "source": [
        "missing_data_reatil=retail_data.isna().sum()\n",
        "print(missing_data_reatil)"
      ],
      "metadata": {
        "id": "rfyFL0lZ9E0n"
      },
      "execution_count": null,
      "outputs": []
    },
    {
      "cell_type": "code",
      "source": [
        "#Eliminar las filas con datos faltantes\n",
        "missing_rows=retail_data.dropna()\n",
        "print(missing_rows)"
      ],
      "metadata": {
        "id": "yy2PsgtG9YE-"
      },
      "execution_count": null,
      "outputs": []
    },
    {
      "cell_type": "code",
      "source": [
        "#eliminar columnas con datos faltantes\n",
        "missing_columns=retail_data.dropna(axis=1)\n",
        "print(missing_columns)"
      ],
      "metadata": {
        "id": "DksZQo589uLa"
      },
      "execution_count": null,
      "outputs": []
    },
    {
      "cell_type": "code",
      "source": [
        "#Reemplazar algun valor que haga falta con algun otro X valor\n",
        "retail_data_filler_with_zeros=retail_data.fillna(0)\n",
        "retail_data_filler_with_zeros_count=retail_data_filler_with_zeros.isna().sum()\n",
        "print(retail_data_filler_with_zeros_count)"
      ],
      "metadata": {
        "id": "7TEBa6oF-L0G"
      },
      "execution_count": null,
      "outputs": []
    },
    {
      "cell_type": "code",
      "source": [
        "#Reemplazar con la media\n",
        "mean_UnitPrices=retail_data['UnitPrice'].mean()\n",
        "print(mean_UnitPrices)"
      ],
      "metadata": {
        "id": "Vfa1ruTV_Kw8"
      },
      "execution_count": null,
      "outputs": []
    },
    {
      "cell_type": "code",
      "source": [
        "FillWithMean=retail_data.fillna(mean_UnitPrices)\n",
        "total=FillWithMean.isna().sum()\n",
        "print(total)\n",
        "print(FillWithMean)"
      ],
      "metadata": {
        "id": "qIC63yd__z4Z"
      },
      "execution_count": null,
      "outputs": []
    },
    {
      "cell_type": "code",
      "source": [
        "retail_data['TotalPrice'] = retail_data['Quantity'] * retail_data['UnitPrice']\n",
        "print(retail_data.head())"
      ],
      "metadata": {
        "id": "0rUb6qAoDk-y"
      },
      "execution_count": null,
      "outputs": []
    },
    {
      "cell_type": "code",
      "source": [
        "retail_data['HighValues']=retail_data['TotalPrice'] > 100\n",
        "print(retail_data['HighValues'].head(3))"
      ],
      "metadata": {
        "id": "wm-xz27UIGXD"
      },
      "execution_count": null,
      "outputs": []
    },
    {
      "cell_type": "code",
      "source": [
        "print(retail_data.info())"
      ],
      "metadata": {
        "id": "_RxKT0843yLm"
      },
      "execution_count": null,
      "outputs": []
    },
    {
      "cell_type": "code",
      "source": [
        "retail_data['InvoiceDate'] = pd.to_datetime(retail_data['InvoiceDate'])\n",
        "print(retail_data.info())"
      ],
      "metadata": {
        "id": "n9A9dYIA4cBf"
      },
      "execution_count": null,
      "outputs": []
    },
    {
      "cell_type": "code",
      "source": [
        "retail_data['DiscountedPrice']=retail_data['UnitPrice'].apply(lambda x:x*0.9)\n",
        "print(retail_data.head())"
      ],
      "metadata": {
        "id": "CQ__9pPh4u5g"
      },
      "execution_count": null,
      "outputs": []
    },
    {
      "cell_type": "code",
      "source": [
        "def categoria_prize(price):\n",
        "  if price>50:\n",
        "    return 'High'\n",
        "  else:\n",
        "    return 'Low'\n",
        "print(categoria_prize(50))\n",
        "retail_data['PriceCategoty']=retail_data['UnitPrice'].apply(categoria_prize)\n",
        "print(retail_data.head())\n"
      ],
      "metadata": {
        "id": "mFUKjKPF7Szg",
        "colab": {
          "base_uri": "https://localhost:8080/"
        },
        "outputId": "b417ef3b-1be8-4129-cacc-06d2a9f60a69"
      },
      "execution_count": null,
      "outputs": [
        {
          "output_type": "stream",
          "name": "stdout",
          "text": [
            "Low\n",
            "  InvoiceNo StockCode                          Description  Quantity  \\\n",
            "0    536365    85123A   WHITE HANGING HEART T-LIGHT HOLDER         6   \n",
            "1    536365     71053                  WHITE METAL LANTERN         6   \n",
            "2    536365    84406B       CREAM CUPID HEARTS COAT HANGER         8   \n",
            "3    536365    84029G  KNITTED UNION FLAG HOT WATER BOTTLE         6   \n",
            "4    536365    84029E       RED WOOLLY HOTTIE WHITE HEART.         6   \n",
            "\n",
            "    InvoiceDate  UnitPrice  CustomerID         Country PriceCategoty  \n",
            "0  12/1/10 8:26       2.55     17850.0  United Kingdom           Low  \n",
            "1  12/1/10 8:26       3.39     17850.0  United Kingdom           Low  \n",
            "2  12/1/10 8:26       2.75     17850.0  United Kingdom           Low  \n",
            "3  12/1/10 8:26       3.39     17850.0  United Kingdom           Low  \n",
            "4  12/1/10 8:26       3.39     17850.0  United Kingdom           Low  \n"
          ]
        }
      ]
    },
    {
      "cell_type": "code",
      "source": [
        "columnas=retail_data.columns\n",
        "print(columnas)"
      ],
      "metadata": {
        "colab": {
          "base_uri": "https://localhost:8080/"
        },
        "id": "LZwTPtK48K6j",
        "outputId": "4b52133c-d4aa-40f5-ef90-2a7ca30deee0"
      },
      "execution_count": null,
      "outputs": [
        {
          "output_type": "stream",
          "name": "stdout",
          "text": [
            "Index(['InvoiceNo', 'StockCode', 'Description', 'Quantity', 'InvoiceDate',\n",
            "       'UnitPrice', 'CustomerID', 'Country'],\n",
            "      dtype='object')\n"
          ]
        }
      ]
    },
    {
      "cell_type": "code",
      "source": [
        "valoresContados=retail_data['Country'].value_counts()\n",
        "print(valoresContados)"
      ],
      "metadata": {
        "colab": {
          "base_uri": "https://localhost:8080/"
        },
        "id": "7iHghcVolLS7",
        "outputId": "24bf2143-a819-4e12-ed88-a5e18939beb9"
      },
      "execution_count": null,
      "outputs": [
        {
          "output_type": "stream",
          "name": "stdout",
          "text": [
            "Country\n",
            "United Kingdom          495478\n",
            "Germany                   9495\n",
            "France                    8557\n",
            "EIRE                      8196\n",
            "Spain                     2533\n",
            "Netherlands               2371\n",
            "Belgium                   2069\n",
            "Switzerland               2002\n",
            "Portugal                  1519\n",
            "Australia                 1259\n",
            "Norway                    1086\n",
            "Italy                      803\n",
            "Channel Islands            758\n",
            "Finland                    695\n",
            "Cyprus                     622\n",
            "Sweden                     462\n",
            "Unspecified                446\n",
            "Austria                    401\n",
            "Denmark                    389\n",
            "Japan                      358\n",
            "Poland                     341\n",
            "Israel                     297\n",
            "USA                        291\n",
            "Hong Kong                  288\n",
            "Singapore                  229\n",
            "Iceland                    182\n",
            "Canada                     151\n",
            "Greece                     146\n",
            "Malta                      127\n",
            "United Arab Emirates        68\n",
            "European Community          61\n",
            "RSA                         58\n",
            "Lebanon                     45\n",
            "Lithuania                   35\n",
            "Brazil                      32\n",
            "Czech Republic              30\n",
            "Bahrain                     19\n",
            "Saudi Arabia                10\n",
            "Name: count, dtype: int64\n"
          ]
        }
      ]
    },
    {
      "cell_type": "code",
      "source": [
        "AgrupacionPaisesVentas=retail_data.groupby(['Country', 'StockCode'])['Quantity'].sum()\n",
        "print(AgrupacionPaisesVentas)"
      ],
      "metadata": {
        "colab": {
          "base_uri": "https://localhost:8080/"
        },
        "id": "nXNRk6FLnDBj",
        "outputId": "2f12103a-be1b-4225-f651-0d6b388be8b8"
      },
      "execution_count": 16,
      "outputs": [
        {
          "output_type": "stream",
          "name": "stdout",
          "text": [
            "Country      StockCode\n",
            "Australia    15036        600\n",
            "             15056BL        3\n",
            "             16161P       400\n",
            "             16169E        25\n",
            "             20665          6\n",
            "                         ... \n",
            "Unspecified  85180A         2\n",
            "             85180B         1\n",
            "             85212         12\n",
            "             85213         12\n",
            "             85227         10\n",
            "Name: Quantity, Length: 19839, dtype: int64\n"
          ]
        }
      ]
    },
    {
      "cell_type": "code",
      "source": [
        "def total_ganacias(group):\n",
        "    return (group['Quantity'] * group['UnitPrice']).sum()\n",
        "\n",
        "ganaciasPorPais = retail_data.groupby('Country').apply(total_ganacias)\n",
        "\n",
        "def considracion(ganancias):\n",
        "    if ganancias > 100000:\n",
        "        return 'Provechoso'\n",
        "    elif ganancias < 50000:\n",
        "        return 'Considerable'\n",
        "    else:\n",
        "        return 'Mal negocio'\n",
        "\n",
        "consideracionPorPais = ganaciasPorPais.apply(considracion)\n",
        "print(consideracionPorPais)\n",
        "\n",
        "retail_data['considracion'] = retail_data['Country'].map(consideracionPorPais)\n",
        "resumen = pd.DataFrame({\n",
        "    'Ganancias': ganaciasPorPais,\n",
        "    'Consideracion': consideracionPorPais\n",
        "})\n",
        "\n",
        "print(resumen)"
      ],
      "metadata": {
        "colab": {
          "base_uri": "https://localhost:8080/"
        },
        "id": "XRn35JuZq-NN",
        "outputId": "a41359dc-b9ae-4fd3-e986-ee4e18d37467"
      },
      "execution_count": 39,
      "outputs": [
        {
          "output_type": "stream",
          "name": "stdout",
          "text": [
            "Country\n",
            "Australia                 Provechoso\n",
            "Austria                 Considerable\n",
            "Bahrain                 Considerable\n",
            "Belgium                 Considerable\n",
            "Brazil                  Considerable\n",
            "Canada                  Considerable\n",
            "Channel Islands         Considerable\n",
            "Cyprus                  Considerable\n",
            "Czech Republic          Considerable\n",
            "Denmark                 Considerable\n",
            "EIRE                      Provechoso\n",
            "European Community      Considerable\n",
            "Finland                 Considerable\n",
            "France                    Provechoso\n",
            "Germany                   Provechoso\n",
            "Greece                  Considerable\n",
            "Hong Kong               Considerable\n",
            "Iceland                 Considerable\n",
            "Israel                  Considerable\n",
            "Italy                   Considerable\n",
            "Japan                   Considerable\n",
            "Lebanon                 Considerable\n",
            "Lithuania               Considerable\n",
            "Malta                   Considerable\n",
            "Netherlands               Provechoso\n",
            "Norway                  Considerable\n",
            "Poland                  Considerable\n",
            "Portugal                Considerable\n",
            "RSA                     Considerable\n",
            "Saudi Arabia            Considerable\n",
            "Singapore               Considerable\n",
            "Spain                    Mal negocio\n",
            "Sweden                  Considerable\n",
            "Switzerland              Mal negocio\n",
            "USA                     Considerable\n",
            "United Arab Emirates    Considerable\n",
            "United Kingdom            Provechoso\n",
            "Unspecified             Considerable\n",
            "dtype: object\n",
            "                        Ganancias Consideracion\n",
            "Country                                        \n",
            "Australia              137077.270    Provechoso\n",
            "Austria                 10154.320  Considerable\n",
            "Bahrain                   548.400  Considerable\n",
            "Belgium                 40910.960  Considerable\n",
            "Brazil                   1143.600  Considerable\n",
            "Canada                   3666.380  Considerable\n",
            "Channel Islands         20086.290  Considerable\n",
            "Cyprus                  12946.290  Considerable\n",
            "Czech Republic            707.720  Considerable\n",
            "Denmark                 18768.140  Considerable\n",
            "EIRE                   263276.820    Provechoso\n",
            "European Community       1291.750  Considerable\n",
            "Finland                 22326.740  Considerable\n",
            "France                 197403.900    Provechoso\n",
            "Germany                221698.210    Provechoso\n",
            "Greece                   4710.520  Considerable\n",
            "Hong Kong               10117.040  Considerable\n",
            "Iceland                  4310.000  Considerable\n",
            "Israel                   7907.820  Considerable\n",
            "Italy                   16890.510  Considerable\n",
            "Japan                   35340.620  Considerable\n",
            "Lebanon                  1693.880  Considerable\n",
            "Lithuania                1661.060  Considerable\n",
            "Malta                    2505.470  Considerable\n",
            "Netherlands            284661.540    Provechoso\n",
            "Norway                  35163.460  Considerable\n",
            "Poland                   7213.140  Considerable\n",
            "Portugal                29367.020  Considerable\n",
            "RSA                      1002.310  Considerable\n",
            "Saudi Arabia              131.170  Considerable\n",
            "Singapore                9120.390  Considerable\n",
            "Spain                   54774.580   Mal negocio\n",
            "Sweden                  36595.910  Considerable\n",
            "Switzerland             56385.350   Mal negocio\n",
            "USA                      1730.920  Considerable\n",
            "United Arab Emirates     1902.280  Considerable\n",
            "United Kingdom        8187806.364    Provechoso\n",
            "Unspecified              4749.790  Considerable\n"
          ]
        },
        {
          "output_type": "stream",
          "name": "stderr",
          "text": [
            "/tmp/ipython-input-39-45332501.py:4: DeprecationWarning: DataFrameGroupBy.apply operated on the grouping columns. This behavior is deprecated, and in a future version of pandas the grouping columns will be excluded from the operation. Either pass `include_groups=False` to exclude the groupings or explicitly select the grouping columns after groupby to silence this warning.\n",
            "  ganaciasPorPais = retail_data.groupby('Country').apply(total_ganacias)\n"
          ]
        }
      ]
    },
    {
      "cell_type": "code",
      "source": [
        "def total_ganacias(group):\n",
        "    return (group['Quantity'] * group['UnitPrice']).sum()\n",
        "\n",
        "ganaciasPorPais = retail_data.groupby('Country').apply(total_ganacias)\n",
        "print(ganaciasPorPais.sort_values(ascending=False).head(3))\n"
      ],
      "metadata": {
        "colab": {
          "base_uri": "https://localhost:8080/"
        },
        "id": "oKObK9W1wIJ-",
        "outputId": "c73e16f7-1c23-4691-b456-d85428912541"
      },
      "execution_count": 40,
      "outputs": [
        {
          "output_type": "stream",
          "name": "stdout",
          "text": [
            "Country\n",
            "United Kingdom    8187806.364\n",
            "Netherlands        284661.540\n",
            "EIRE               263276.820\n",
            "dtype: float64\n"
          ]
        },
        {
          "output_type": "stream",
          "name": "stderr",
          "text": [
            "/tmp/ipython-input-40-1351102626.py:4: DeprecationWarning: DataFrameGroupBy.apply operated on the grouping columns. This behavior is deprecated, and in a future version of pandas the grouping columns will be excluded from the operation. Either pass `include_groups=False` to exclude the groupings or explicitly select the grouping columns after groupby to silence this warning.\n",
            "  ganaciasPorPais = retail_data.groupby('Country').apply(total_ganacias)\n"
          ]
        }
      ]
    },
    {
      "cell_type": "markdown",
      "source": [
        "![fillnaMedia.png](data:image/png;base64,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)"
      ],
      "metadata": {
        "id": "Ng-40KTv7-Ir"
      }
    }
  ]
}