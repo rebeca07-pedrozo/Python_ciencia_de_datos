{
  "nbformat": 4,
  "nbformat_minor": 0,
  "metadata": {
    "colab": {
      "provenance": [],
      "authorship_tag": "ABX9TyO1QU369WExMk5lsfghfyR6",
      "include_colab_link": true
    },
    "kernelspec": {
      "name": "python3",
      "display_name": "Python 3"
    },
    "language_info": {
      "name": "python"
    }
  },
  "cells": [
    {
      "cell_type": "markdown",
      "metadata": {
        "id": "view-in-github",
        "colab_type": "text"
      },
      "source": [
        "<a href=\"https://colab.research.google.com/github/rebeca07-pedrozo/Python_ciencia_de_datos/blob/main/Ventas_mensualesipynb.ipynb\" target=\"_parent\"><img src=\"https://colab.research.google.com/assets/colab-badge.svg\" alt=\"Open In Colab\"/></a>"
      ]
    },
    {
      "cell_type": "code",
      "execution_count": 1,
      "metadata": {
        "colab": {
          "base_uri": "https://localhost:8080/"
        },
        "id": "MjtehqQvopui",
        "outputId": "789f3f1b-72db-4ffd-c027-6f2dfa9e2679"
      },
      "outputs": [
        {
          "output_type": "stream",
          "name": "stdout",
          "text": [
            "Requirement already satisfied: numpy in /usr/local/lib/python3.11/dist-packages (2.0.2)\n"
          ]
        }
      ],
      "source": [
        "!pip install numpy"
      ]
    },
    {
      "cell_type": "code",
      "source": [
        "import numpy as np"
      ],
      "metadata": {
        "id": "ZTwxx3LHo3JJ"
      },
      "execution_count": 2,
      "outputs": []
    },
    {
      "cell_type": "code",
      "source": [
        "month = np.array(['Enero', 'Febrero', 'Marzo', 'Abril',\n",
        "                  'Mayo', 'Junio', 'Julio', 'Agosto',\n",
        "                  'Septiembre', 'Octubre', 'Noviembre',\n",
        "                  'Diciembre'])\n",
        "product_A = np.array([150,200,250,300,220,210,180,190,230,240,280,300])\n",
        "product_B = np.array([180,210,230,250,270,260,240,250,270,290,310,330])\n",
        "product_c = np.array([200,220,240,260,280,300,320,340,360,380,400,420])"
      ],
      "metadata": {
        "id": "SId57KDyo57v"
      },
      "execution_count": 3,
      "outputs": []
    },
    {
      "cell_type": "code",
      "source": [
        "total_productoA= np.sum(product_A)\n",
        "total_productoB= np.sum(product_B)\n",
        "total_productoC= np.sum(product_c)\n",
        "print(total_productoA)\n",
        "print(total_productoB)\n",
        "print(total_productoC)\n"
      ],
      "metadata": {
        "colab": {
          "base_uri": "https://localhost:8080/"
        },
        "id": "dhS-cas0pHJ5",
        "outputId": "3131544a-41b9-40da-8058-e8ce103cddf3"
      },
      "execution_count": 4,
      "outputs": [
        {
          "output_type": "stream",
          "name": "stdout",
          "text": [
            "2750\n",
            "3090\n",
            "3720\n"
          ]
        }
      ]
    },
    {
      "cell_type": "code",
      "source": [
        "TresPrimerosMesesA=np.sum(product_A[:3])\n",
        "TresPrimerosMesesB=np.sum(product_B[:3])\n",
        "TresPrimerosMesesC=np.sum(product_c[:3])\n",
        "primerosTresMeses=np.array([TresPrimerosMesesA,TresPrimerosMesesB,TresPrimerosMesesC])\n",
        "print(primerosTresMeses)"
      ],
      "metadata": {
        "colab": {
          "base_uri": "https://localhost:8080/"
        },
        "id": "fpXwKg0gq7Ws",
        "outputId": "c06524c7-6aa9-47be-fab1-62c977401e93"
      },
      "execution_count": 5,
      "outputs": [
        {
          "output_type": "stream",
          "name": "stdout",
          "text": [
            "[600 620 660]\n"
          ]
        }
      ]
    },
    {
      "cell_type": "code",
      "source": [
        "Concatenar=np.concatenate((product_A,product_B,product_c))\n",
        "print(Concatenar)"
      ],
      "metadata": {
        "colab": {
          "base_uri": "https://localhost:8080/"
        },
        "id": "vonxNP7lsGg_",
        "outputId": "60691a4d-9f80-4ef0-8ec0-1fc05b0ace02"
      },
      "execution_count": 6,
      "outputs": [
        {
          "output_type": "stream",
          "name": "stdout",
          "text": [
            "[150 200 250 300 220 210 180 190 230 240 280 300 180 210 230 250 270 260\n",
            " 240 250 270 290 310 330 200 220 240 260 280 300 320 340 360 380 400 420]\n"
          ]
        }
      ]
    },
    {
      "cell_type": "code",
      "source": [
        "unique_elements, counts=np.unique(Concatenar, return_counts=True)\n",
        "print(unique_elements)\n",
        "print(counts)"
      ],
      "metadata": {
        "colab": {
          "base_uri": "https://localhost:8080/"
        },
        "id": "3bKTPxUY2Rzb",
        "outputId": "be0d7a96-ec22-4019-ce3a-a9c7aeb57524"
      },
      "execution_count": 7,
      "outputs": [
        {
          "output_type": "stream",
          "name": "stdout",
          "text": [
            "[150 180 190 200 210 220 230 240 250 260 270 280 290 300 310 320 330 340\n",
            " 360 380 400 420]\n",
            "[1 2 1 2 2 2 2 3 3 2 2 2 1 3 1 1 1 1 1 1 1 1]\n"
          ]
        }
      ]
    },
    {
      "cell_type": "code",
      "source": [
        "counts=np.mean(counts)\n",
        "print(counts)"
      ],
      "metadata": {
        "colab": {
          "base_uri": "https://localhost:8080/"
        },
        "id": "fokFNHgC3E3-",
        "outputId": "23daf41a-f51c-4933-926b-eb0cb859de20"
      },
      "execution_count": 8,
      "outputs": [
        {
          "output_type": "stream",
          "name": "stdout",
          "text": [
            "1.6363636363636365\n"
          ]
        }
      ]
    },
    {
      "cell_type": "code",
      "source": [
        "reshaped_array=product_A.reshape(6,2)\n",
        "print(product_A)\n",
        "print(reshaped_array)"
      ],
      "metadata": {
        "colab": {
          "base_uri": "https://localhost:8080/"
        },
        "id": "WO3j92Mn49y7",
        "outputId": "fce63480-aec3-412e-f265-2f6d05a34725"
      },
      "execution_count": 9,
      "outputs": [
        {
          "output_type": "stream",
          "name": "stdout",
          "text": [
            "[150 200 250 300 220 210 180 190 230 240 280 300]\n",
            "[[150 200]\n",
            " [250 300]\n",
            " [220 210]\n",
            " [180 190]\n",
            " [230 240]\n",
            " [280 300]]\n"
          ]
        }
      ]
    },
    {
      "cell_type": "code",
      "source": [
        "reshaped_array=product_A.reshape(6,2)\n",
        "print(product_A)\n",
        "print(reshaped_array)"
      ],
      "metadata": {
        "colab": {
          "base_uri": "https://localhost:8080/"
        },
        "id": "rOkwAQ7z5twb",
        "outputId": "a8cecb1c-b77a-4042-ab8b-6c88e48833b5"
      },
      "execution_count": 10,
      "outputs": [
        {
          "output_type": "stream",
          "name": "stdout",
          "text": [
            "[150 200 250 300 220 210 180 190 230 240 280 300]\n",
            "[[150 200]\n",
            " [250 300]\n",
            " [220 210]\n",
            " [180 190]\n",
            " [230 240]\n",
            " [280 300]]\n"
          ]
        }
      ]
    },
    {
      "cell_type": "code",
      "source": [
        "short = print(reshaped_array[:3])\n",
        "long = print(reshaped_array[3:6])\n",
        "total= print(reshaped_array[:6])\n",
        "totall=(print(np.sum(reshaped_array)))"
      ],
      "metadata": {
        "colab": {
          "base_uri": "https://localhost:8080/"
        },
        "id": "0fMziieDcEpF",
        "outputId": "08726f3c-8728-47af-bfd2-dbace697c70c"
      },
      "execution_count": 24,
      "outputs": [
        {
          "output_type": "stream",
          "name": "stdout",
          "text": [
            "[[150 200]\n",
            " [250 300]\n",
            " [220 210]]\n",
            "[[180 190]\n",
            " [230 240]\n",
            " [280 300]]\n",
            "[[150 200]\n",
            " [250 300]\n",
            " [220 210]\n",
            " [180 190]\n",
            " [230 240]\n",
            " [280 300]]\n",
            "2750\n"
          ]
        }
      ]
    }
  ]
}