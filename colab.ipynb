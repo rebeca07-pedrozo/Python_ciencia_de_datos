{
  "nbformat": 4,
  "nbformat_minor": 0,
  "metadata": {
    "colab": {
      "provenance": [],
      "authorship_tag": "ABX9TyNDy73fTK0vpl2LPgJrdl0U",
      "include_colab_link": true
    },
    "kernelspec": {
      "name": "python3",
      "display_name": "Python 3"
    },
    "language_info": {
      "name": "python"
    }
  },
  "cells": [
    {
      "cell_type": "markdown",
      "metadata": {
        "id": "view-in-github",
        "colab_type": "text"
      },
      "source": [
        "<a href=\"https://colab.research.google.com/github/rebeca07-pedrozo/Python_ciencia_de_datos/blob/main/colab.ipynb\" target=\"_parent\"><img src=\"https://colab.research.google.com/assets/colab-badge.svg\" alt=\"Open In Colab\"/></a>"
      ]
    },
    {
      "cell_type": "code",
      "execution_count": 6,
      "metadata": {
        "colab": {
          "base_uri": "https://localhost:8080/"
        },
        "id": "rZueyxRng7eV",
        "outputId": "62727bd5-054c-42f2-ca00-67fd8787556d"
      },
      "outputs": [
        {
          "output_type": "stream",
          "name": "stdout",
          "text": [
            "Requirement already satisfied: numpy in /usr/local/lib/python3.11/dist-packages (2.0.2)\n",
            "Requirement already satisfied: pandas in /usr/local/lib/python3.11/dist-packages (2.2.2)\n",
            "Requirement already satisfied: matplotlib in /usr/local/lib/python3.11/dist-packages (3.10.0)\n",
            "Requirement already satisfied: python-dateutil>=2.8.2 in /usr/local/lib/python3.11/dist-packages (from pandas) (2.9.0.post0)\n",
            "Requirement already satisfied: pytz>=2020.1 in /usr/local/lib/python3.11/dist-packages (from pandas) (2025.2)\n",
            "Requirement already satisfied: tzdata>=2022.7 in /usr/local/lib/python3.11/dist-packages (from pandas) (2025.2)\n",
            "Requirement already satisfied: contourpy>=1.0.1 in /usr/local/lib/python3.11/dist-packages (from matplotlib) (1.3.2)\n",
            "Requirement already satisfied: cycler>=0.10 in /usr/local/lib/python3.11/dist-packages (from matplotlib) (0.12.1)\n",
            "Requirement already satisfied: fonttools>=4.22.0 in /usr/local/lib/python3.11/dist-packages (from matplotlib) (4.58.4)\n",
            "Requirement already satisfied: kiwisolver>=1.3.1 in /usr/local/lib/python3.11/dist-packages (from matplotlib) (1.4.8)\n",
            "Requirement already satisfied: packaging>=20.0 in /usr/local/lib/python3.11/dist-packages (from matplotlib) (24.2)\n",
            "Requirement already satisfied: pillow>=8 in /usr/local/lib/python3.11/dist-packages (from matplotlib) (11.2.1)\n",
            "Requirement already satisfied: pyparsing>=2.3.1 in /usr/local/lib/python3.11/dist-packages (from matplotlib) (3.2.3)\n",
            "Requirement already satisfied: six>=1.5 in /usr/local/lib/python3.11/dist-packages (from python-dateutil>=2.8.2->pandas) (1.17.0)\n"
          ]
        }
      ],
      "source": [
        "!pip install numpy pandas matplotlib"
      ]
    },
    {
      "cell_type": "markdown",
      "source": [
        "**Arrays en numpy**"
      ],
      "metadata": {
        "id": "rd7xiwKyjrUR"
      }
    },
    {
      "cell_type": "code",
      "source": [
        "import numpy as np\n",
        "escalar = np.array(42)\n",
        "print(type(escalar))\n",
        "print(escalar)"
      ],
      "metadata": {
        "colab": {
          "base_uri": "https://localhost:8080/"
        },
        "id": "LKq5qXvdi7AX",
        "outputId": "29ba8e69-eed7-4ee7-9051-ed2dc6c8018f"
      },
      "execution_count": 7,
      "outputs": [
        {
          "output_type": "stream",
          "name": "stdout",
          "text": [
            "<class 'numpy.ndarray'>\n",
            "42\n"
          ]
        }
      ]
    },
    {
      "cell_type": "code",
      "source": [
        "vector=np.array([1,2,3])\n",
        "print(type(vector))\n",
        "print(vector)"
      ],
      "metadata": {
        "id": "lbe5FdYCk9R8",
        "colab": {
          "base_uri": "https://localhost:8080/"
        },
        "outputId": "bfad5f43-d9bb-4f42-c778-cab45669f988"
      },
      "execution_count": 8,
      "outputs": [
        {
          "output_type": "stream",
          "name": "stdout",
          "text": [
            "<class 'numpy.ndarray'>\n",
            "[1 2 3]\n"
          ]
        }
      ]
    },
    {
      "cell_type": "code",
      "source": [
        "matrix =np.array([[1,2,3], [4,5,6], [7,8,9]])\n",
        "print(matrix)"
      ],
      "metadata": {
        "id": "T1LbsnAElgvU",
        "colab": {
          "base_uri": "https://localhost:8080/"
        },
        "outputId": "4fb6fdda-92fa-4444-b66a-d22f355990cf"
      },
      "execution_count": 9,
      "outputs": [
        {
          "output_type": "stream",
          "name": "stdout",
          "text": [
            "[[1 2 3]\n",
            " [4 5 6]\n",
            " [7 8 9]]\n"
          ]
        }
      ]
    },
    {
      "cell_type": "code",
      "source": [
        "matrix=np.array([[1,2,3],[4,5,6],[7,8,9]])\n",
        "print(matrix)"
      ],
      "metadata": {
        "id": "ZLAfptT8m7yr",
        "colab": {
          "base_uri": "https://localhost:8080/"
        },
        "outputId": "e3f28096-3013-49e2-ad4f-607117f413cf"
      },
      "execution_count": 10,
      "outputs": [
        {
          "output_type": "stream",
          "name": "stdout",
          "text": [
            "[[1 2 3]\n",
            " [4 5 6]\n",
            " [7 8 9]]\n"
          ]
        }
      ]
    },
    {
      "cell_type": "code",
      "source": [
        "array_arange=np.arange(10)\n",
        "print(array_arange)"
      ],
      "metadata": {
        "id": "RI_rWImQnp_A",
        "colab": {
          "base_uri": "https://localhost:8080/"
        },
        "outputId": "220999ab-7064-4359-f06e-b92d439ea271"
      },
      "execution_count": 11,
      "outputs": [
        {
          "output_type": "stream",
          "name": "stdout",
          "text": [
            "[0 1 2 3 4 5 6 7 8 9]\n"
          ]
        }
      ]
    },
    {
      "cell_type": "code",
      "source": [
        "eye_matrix=np.eye(6)\n",
        "print(eye_matrix)"
      ],
      "metadata": {
        "id": "AJpk-2Jio4pZ",
        "colab": {
          "base_uri": "https://localhost:8080/"
        },
        "outputId": "739ce364-789d-40ee-d685-40c86bb46c75"
      },
      "execution_count": 12,
      "outputs": [
        {
          "output_type": "stream",
          "name": "stdout",
          "text": [
            "[[1. 0. 0. 0. 0. 0.]\n",
            " [0. 1. 0. 0. 0. 0.]\n",
            " [0. 0. 1. 0. 0. 0.]\n",
            " [0. 0. 0. 1. 0. 0.]\n",
            " [0. 0. 0. 0. 1. 0.]\n",
            " [0. 0. 0. 0. 0. 1.]]\n"
          ]
        }
      ]
    },
    {
      "cell_type": "code",
      "source": [
        "diag= np.diag([1,2,3])\n",
        "print(diag)"
      ],
      "metadata": {
        "id": "1SXouEVXpMBX",
        "colab": {
          "base_uri": "https://localhost:8080/"
        },
        "outputId": "4475fb5c-0c21-4bac-f366-bea9410ef9b2"
      },
      "execution_count": 13,
      "outputs": [
        {
          "output_type": "stream",
          "name": "stdout",
          "text": [
            "[[1 0 0]\n",
            " [0 2 0]\n",
            " [0 0 3]]\n"
          ]
        }
      ]
    },
    {
      "cell_type": "code",
      "source": [
        "random =np.random.random((2,4))\n",
        "print(random)"
      ],
      "metadata": {
        "id": "kIILuMYSNX0W",
        "colab": {
          "base_uri": "https://localhost:8080/"
        },
        "outputId": "54e981e6-a531-40d6-f810-a5f2f6c156cb"
      },
      "execution_count": 14,
      "outputs": [
        {
          "output_type": "stream",
          "name": "stdout",
          "text": [
            "[[0.54693279 0.19390738 0.92408152 0.05521985]\n",
            " [0.47628141 0.41609017 0.92964403 0.20174222]]\n"
          ]
        }
      ]
    },
    {
      "cell_type": "code",
      "source": [
        "array = np.array([[1,2,3],[4,5,6],[7,8,9]])\n",
        "print(array.ndim)\n",
        "print(array.shape)\n",
        "print(array.dtype)"
      ],
      "metadata": {
        "id": "CzY3_5aUN7Hy",
        "colab": {
          "base_uri": "https://localhost:8080/"
        },
        "outputId": "3326d445-2c14-4756-9cc4-76c5d08b9d7e"
      },
      "execution_count": 15,
      "outputs": [
        {
          "output_type": "stream",
          "name": "stdout",
          "text": [
            "2\n",
            "(3, 3)\n",
            "int64\n"
          ]
        }
      ]
    },
    {
      "cell_type": "code",
      "source": [
        "array = np.array([[1,2,3],[4,5,6]])\n",
        "print(array.shape)"
      ],
      "metadata": {
        "id": "aRqsP08TQBJo",
        "colab": {
          "base_uri": "https://localhost:8080/"
        },
        "outputId": "26a9a8a9-80f4-45ca-dc47-7ec699da36ab"
      },
      "execution_count": 16,
      "outputs": [
        {
          "output_type": "stream",
          "name": "stdout",
          "text": [
            "(2, 3)\n"
          ]
        }
      ]
    },
    {
      "cell_type": "code",
      "source": [
        "z=np.array(8, dtype=np.uint8)\n",
        "print(z)"
      ],
      "metadata": {
        "id": "Q_NLClK4TBYB",
        "colab": {
          "base_uri": "https://localhost:8080/"
        },
        "outputId": "64adb19f-3470-4b03-e331-1706180d327c"
      },
      "execution_count": 17,
      "outputs": [
        {
          "output_type": "stream",
          "name": "stdout",
          "text": [
            "8\n"
          ]
        }
      ]
    },
    {
      "cell_type": "code",
      "source": [
        "double_array=np.array([1,2,3], dtype=np.float64)\n",
        "print(double_array)"
      ],
      "metadata": {
        "id": "WX6B6l9mTQqU",
        "colab": {
          "base_uri": "https://localhost:8080/"
        },
        "outputId": "572dc6a8-3365-46b8-d3b3-c94d7621aff7"
      },
      "execution_count": 18,
      "outputs": [
        {
          "output_type": "stream",
          "name": "stdout",
          "text": [
            "[1. 2. 3.]\n"
          ]
        }
      ]
    },
    {
      "cell_type": "code",
      "source": [
        "z=z.astype(np.float64)\n",
        "print(z)"
      ],
      "metadata": {
        "id": "pB17bmGhUD8M",
        "colab": {
          "base_uri": "https://localhost:8080/"
        },
        "outputId": "84c3ba47-dca7-4567-b722-fda7b6f98e70"
      },
      "execution_count": 19,
      "outputs": [
        {
          "output_type": "stream",
          "name": "stdout",
          "text": [
            "8.0\n"
          ]
        }
      ]
    },
    {
      "cell_type": "code",
      "source": [
        "array"
      ],
      "metadata": {
        "id": "k6S4LDVBUZ92",
        "colab": {
          "base_uri": "https://localhost:8080/"
        },
        "outputId": "e9893570-d5dd-4c44-d75d-6ece1d8ca686"
      },
      "execution_count": 20,
      "outputs": [
        {
          "output_type": "execute_result",
          "data": {
            "text/plain": [
              "array([[1, 2, 3],\n",
              "       [4, 5, 6]])"
            ]
          },
          "metadata": {},
          "execution_count": 20
        }
      ]
    },
    {
      "cell_type": "code",
      "source": [
        "array=array.astype(np.float64)\n",
        "print(array)"
      ],
      "metadata": {
        "id": "4IU14GfLU68l",
        "colab": {
          "base_uri": "https://localhost:8080/"
        },
        "outputId": "5ca919a8-832c-4b08-f4c8-d407bda060fe"
      },
      "execution_count": 21,
      "outputs": [
        {
          "output_type": "stream",
          "name": "stdout",
          "text": [
            "[[1. 2. 3.]\n",
            " [4. 5. 6.]]\n"
          ]
        }
      ]
    },
    {
      "cell_type": "code",
      "source": [
        "array = np.array([[1,2,3],[4,5,6]])\n",
        "add = np.sum(array)\n",
        "print(add)"
      ],
      "metadata": {
        "id": "eqD5VMqWgkHe",
        "colab": {
          "base_uri": "https://localhost:8080/"
        },
        "outputId": "de4cddb4-2277-4903-a74d-d8f326c4333a"
      },
      "execution_count": 22,
      "outputs": [
        {
          "output_type": "stream",
          "name": "stdout",
          "text": [
            "21\n"
          ]
        }
      ]
    },
    {
      "cell_type": "code",
      "source": [
        "array = np.array([[1,3,4],[7,9,0]])\n",
        "sum = np.sum(array)\n",
        "array = sum\n",
        "print(sum)"
      ],
      "metadata": {
        "id": "3tmaavrChcWl",
        "colab": {
          "base_uri": "https://localhost:8080/"
        },
        "outputId": "613b4933-817b-4587-e522-8bda92df5ac0"
      },
      "execution_count": 23,
      "outputs": [
        {
          "output_type": "stream",
          "name": "stdout",
          "text": [
            "24\n"
          ]
        }
      ]
    },
    {
      "cell_type": "code",
      "source": [
        "array = np.array([[1,3,4],[7,9,0]])\n",
        "arrai = np.array([[7,9,0],[1,3,4]])\n",
        "sum=np.sum(array+arrai)\n",
        "array_total=sum\n",
        "print(array_total)"
      ],
      "metadata": {
        "id": "Lbq-uwx4iJUZ",
        "colab": {
          "base_uri": "https://localhost:8080/"
        },
        "outputId": "39cfb781-13e6-4af4-ee83-9fb30528640b"
      },
      "execution_count": 24,
      "outputs": [
        {
          "output_type": "stream",
          "name": "stdout",
          "text": [
            "48\n"
          ]
        }
      ]
    },
    {
      "cell_type": "code",
      "source": [
        "mean = np.mean(array)\n",
        "print(mean)"
      ],
      "metadata": {
        "id": "fDJWE4VliK_c",
        "colab": {
          "base_uri": "https://localhost:8080/"
        },
        "outputId": "35b566e4-b54e-48e7-82be-1c6747e828b0"
      },
      "execution_count": 25,
      "outputs": [
        {
          "output_type": "stream",
          "name": "stdout",
          "text": [
            "4.0\n"
          ]
        }
      ]
    },
    {
      "cell_type": "code",
      "source": [
        "std=np.std(array)\n",
        "print(std)"
      ],
      "metadata": {
        "id": "lU-xXHPai2Lo",
        "colab": {
          "base_uri": "https://localhost:8080/"
        },
        "outputId": "1b007396-d90e-48d7-bbdb-85edbb8005eb"
      },
      "execution_count": 26,
      "outputs": [
        {
          "output_type": "stream",
          "name": "stdout",
          "text": [
            "3.1622776601683795\n"
          ]
        }
      ]
    },
    {
      "cell_type": "markdown",
      "source": [
        "dot es multiplicar\n"
      ],
      "metadata": {
        "id": "90JQokEijiX1"
      }
    },
    {
      "cell_type": "code",
      "source": [],
      "metadata": {
        "id": "sce5DHzXjkef"
      },
      "execution_count": 26,
      "outputs": []
    },
    {
      "cell_type": "markdown",
      "source": [
        "# New Section"
      ],
      "metadata": {
        "id": "2Z3JF5Tdj96j"
      }
    },
    {
      "cell_type": "code",
      "source": [
        "import numpy as np\n",
        "array = np.array([10,20,30,40,50])\n",
        "print(array[1])\n",
        "print(array[-1])"
      ],
      "metadata": {
        "id": "MbEuY1HokAAY",
        "colab": {
          "base_uri": "https://localhost:8080/"
        },
        "outputId": "ea84b2d0-4a5a-460e-d143-e98734809fff"
      },
      "execution_count": 27,
      "outputs": [
        {
          "output_type": "stream",
          "name": "stdout",
          "text": [
            "20\n",
            "50\n"
          ]
        }
      ]
    },
    {
      "cell_type": "code",
      "source": [
        "print(array[1:4])"
      ],
      "metadata": {
        "id": "ZjPMpZa6lIUM",
        "colab": {
          "base_uri": "https://localhost:8080/"
        },
        "outputId": "3d6bafd3-5669-4fcd-f18d-c5508441c2dc"
      },
      "execution_count": 28,
      "outputs": [
        {
          "output_type": "stream",
          "name": "stdout",
          "text": [
            "[20 30 40]\n"
          ]
        }
      ]
    },
    {
      "cell_type": "code",
      "source": [
        "print(array[-1:-7])"
      ],
      "metadata": {
        "id": "ipZsyEPZlhJx",
        "colab": {
          "base_uri": "https://localhost:8080/"
        },
        "outputId": "b454f7e9-182a-47e0-c2e6-26c7394220ba"
      },
      "execution_count": 29,
      "outputs": [
        {
          "output_type": "stream",
          "name": "stdout",
          "text": [
            "[]\n"
          ]
        }
      ]
    },
    {
      "cell_type": "code",
      "source": [
        "print(array[1:7])"
      ],
      "metadata": {
        "id": "iwVrU9IvlpyD",
        "colab": {
          "base_uri": "https://localhost:8080/"
        },
        "outputId": "c469abcf-9375-42db-d85a-d9f92b2a2ebd"
      },
      "execution_count": 30,
      "outputs": [
        {
          "output_type": "stream",
          "name": "stdout",
          "text": [
            "[20 30 40 50]\n"
          ]
        }
      ]
    },
    {
      "cell_type": "code",
      "source": [
        "array = np.array([10,20,30,40,50])\n",
        "bool_index = array>25\n",
        "print(bool_index)"
      ],
      "metadata": {
        "id": "Uavy2DhWl4y5",
        "colab": {
          "base_uri": "https://localhost:8080/"
        },
        "outputId": "a832542c-4439-4124-e323-0b7795da283b"
      },
      "execution_count": 31,
      "outputs": [
        {
          "output_type": "stream",
          "name": "stdout",
          "text": [
            "[False False  True  True  True]\n"
          ]
        }
      ]
    },
    {
      "cell_type": "code",
      "source": [
        "print(array[2])"
      ],
      "metadata": {
        "id": "gjH4Xj_Ml7mW",
        "colab": {
          "base_uri": "https://localhost:8080/"
        },
        "outputId": "794ad41f-b7cd-46ab-e9f2-c1d2821f9d43"
      },
      "execution_count": 32,
      "outputs": [
        {
          "output_type": "stream",
          "name": "stdout",
          "text": [
            "30\n"
          ]
        }
      ]
    },
    {
      "cell_type": "code",
      "source": [
        "index=[2,3,4]\n",
        "print(array[index])"
      ],
      "metadata": {
        "id": "Px5QjRaPnT56",
        "colab": {
          "base_uri": "https://localhost:8080/"
        },
        "outputId": "04ff3501-c146-489c-b8e1-1168b522f5eb"
      },
      "execution_count": 33,
      "outputs": [
        {
          "output_type": "stream",
          "name": "stdout",
          "text": [
            "[30 40 50]\n"
          ]
        }
      ]
    },
    {
      "cell_type": "code",
      "source": [
        "array=np.random.randint(1,10, size=(3,3))\n",
        "print(array)\n",
        "print(array[0,1])"
      ],
      "metadata": {
        "id": "Pmmn-2zsnqLW",
        "colab": {
          "base_uri": "https://localhost:8080/"
        },
        "outputId": "59fc28e4-8cab-4216-f322-4f68b06a14eb"
      },
      "execution_count": 34,
      "outputs": [
        {
          "output_type": "stream",
          "name": "stdout",
          "text": [
            "[[3 3 1]\n",
            " [5 7 5]\n",
            " [8 3 3]]\n",
            "3\n"
          ]
        }
      ]
    },
    {
      "cell_type": "code",
      "source": [
        "print(array[:2,:2])"
      ],
      "metadata": {
        "id": "7j91nherpOej",
        "colab": {
          "base_uri": "https://localhost:8080/"
        },
        "outputId": "c59e0162-dee3-4546-9aa9-f6580cae6d27"
      },
      "execution_count": 35,
      "outputs": [
        {
          "output_type": "stream",
          "name": "stdout",
          "text": [
            "[[3 3]\n",
            " [5 7]]\n"
          ]
        }
      ]
    },
    {
      "cell_type": "code",
      "source": [
        "array=np.random.randint(1,100,size=(10,10))\n",
        "print(array)"
      ],
      "metadata": {
        "id": "V26b2MiDpvVa",
        "colab": {
          "base_uri": "https://localhost:8080/"
        },
        "outputId": "4429ef8d-828c-4cc4-b5f7-09f57f9358b4"
      },
      "execution_count": 36,
      "outputs": [
        {
          "output_type": "stream",
          "name": "stdout",
          "text": [
            "[[10 46 69 57 10 65 99 53 50 94]\n",
            " [44 34 87 32 50 81 10 58 38 52]\n",
            " [29 28 41 89  1 46 88 73 14 66]\n",
            " [31 47 89  9 37 71 59 12 40  7]\n",
            " [36 20  4 11 98 93  6 40 79 37]\n",
            " [72 95  7 56 70 86 39 45 49 17]\n",
            " [65 38 24 10 18  2 63 87 24 24]\n",
            " [82 42 60 66 76 29 33 68 85  3]\n",
            " [30 18 42 68 65 11 24 99 59 37]\n",
            " [39  9 36 37 16 99 95 58 11 17]]\n"
          ]
        }
      ]
    },
    {
      "cell_type": "code",
      "source": [
        "print(array[5:8,5:7])"
      ],
      "metadata": {
        "id": "GeA13XGqp_WS",
        "colab": {
          "base_uri": "https://localhost:8080/"
        },
        "outputId": "f0ad3902-fa80-48fe-a153-02348964f7fb"
      },
      "execution_count": 37,
      "outputs": [
        {
          "output_type": "stream",
          "name": "stdout",
          "text": [
            "[[86 39]\n",
            " [ 2 63]\n",
            " [29 33]]\n"
          ]
        }
      ]
    },
    {
      "cell_type": "code",
      "source": [
        "prices=np.array([200,300,400])\n",
        "discount=np.array([0.9])\n",
        "prices_with_discount=prices*discount\n",
        "print(prices_with_discount)"
      ],
      "metadata": {
        "id": "bFaL6Et5sMbK",
        "colab": {
          "base_uri": "https://localhost:8080/"
        },
        "outputId": "d2201a0f-1085-4bf0-f778-12c23a46a0e9"
      },
      "execution_count": 38,
      "outputs": [
        {
          "output_type": "stream",
          "name": "stdout",
          "text": [
            "[180. 270. 360.]\n"
          ]
        }
      ]
    },
    {
      "cell_type": "code",
      "source": [
        "prices=np.random.randint(100,500, size=(3,3))\n",
        "discount=np.array([10,20,30])\n",
        "prices_plus_discount=prices+discount\n",
        "print(prices)\n",
        "print(discount)\n",
        "print(prices_plus_discount)"
      ],
      "metadata": {
        "colab": {
          "base_uri": "https://localhost:8080/"
        },
        "id": "YwMN90qy98Ie",
        "outputId": "3556aa05-c5f6-41bb-b4a6-6dd428299324"
      },
      "execution_count": 39,
      "outputs": [
        {
          "output_type": "stream",
          "name": "stdout",
          "text": [
            "[[206 207 217]\n",
            " [156 111 401]\n",
            " [211 190 221]]\n",
            "[10 20 30]\n",
            "[[216 227 247]\n",
            " [166 131 431]\n",
            " [221 210 251]]\n"
          ]
        }
      ]
    },
    {
      "cell_type": "code",
      "source": [
        "array=np.array([1,2,3,4,5])\n",
        "print(np.all(array>9))\n"
      ],
      "metadata": {
        "colab": {
          "base_uri": "https://localhost:8080/"
        },
        "id": "lJHBFDwd-yqS",
        "outputId": "f0b6f6a4-145d-42d1-fc0d-d14cba69c818"
      },
      "execution_count": 40,
      "outputs": [
        {
          "output_type": "stream",
          "name": "stdout",
          "text": [
            "False\n"
          ]
        }
      ]
    },
    {
      "cell_type": "code",
      "source": [
        "print(np.any(array>0))"
      ],
      "metadata": {
        "colab": {
          "base_uri": "https://localhost:8080/"
        },
        "id": "oboV9z0H_LhU",
        "outputId": "9b67bb60-7ea7-460f-8db9-4f17c9004bf4"
      },
      "execution_count": 41,
      "outputs": [
        {
          "output_type": "stream",
          "name": "stdout",
          "text": [
            "True\n"
          ]
        }
      ]
    },
    {
      "cell_type": "code",
      "source": [
        "from typing import Concatenate\n",
        "array_a=np.array([1,2,3])\n",
        "array_b=np.array([4,5,6])\n",
        "concatenate=np.concatenate([array_a,array_b])\n",
        "print(concatenate)"
      ],
      "metadata": {
        "colab": {
          "base_uri": "https://localhost:8080/"
        },
        "id": "kHZWv2p9_Z4K",
        "outputId": "64fa8862-ea49-495b-df90-db9b1b1a87d8"
      },
      "execution_count": 42,
      "outputs": [
        {
          "output_type": "stream",
          "name": "stdout",
          "text": [
            "[1 2 3 4 5 6]\n"
          ]
        }
      ]
    },
    {
      "cell_type": "code",
      "source": [
        "stecked_h=np.hstack((array_a,array_b))\n",
        "print(stecked_h)"
      ],
      "metadata": {
        "id": "UtLSNQpk_chQ",
        "colab": {
          "base_uri": "https://localhost:8080/"
        },
        "outputId": "91add237-cbab-4369-96c9-a284ecc4bf85"
      },
      "execution_count": 43,
      "outputs": [
        {
          "output_type": "stream",
          "name": "stdout",
          "text": [
            "[1 2 3 4 5 6]\n"
          ]
        }
      ]
    },
    {
      "cell_type": "code",
      "source": [
        "array_c=np.arange(1,10)\n",
        "split_array=np.split(array_c,3)\n",
        "print(array_c)\n",
        "print(split_array)"
      ],
      "metadata": {
        "colab": {
          "base_uri": "https://localhost:8080/"
        },
        "id": "k7JNM2YYCT3Z",
        "outputId": "e63f8ba1-4bcf-4a69-a369-1fc7aa15e2a7"
      },
      "execution_count": 44,
      "outputs": [
        {
          "output_type": "stream",
          "name": "stdout",
          "text": [
            "[1 2 3 4 5 6 7 8 9]\n",
            "[array([1, 2, 3]), array([4, 5, 6]), array([7, 8, 9])]\n"
          ]
        }
      ]
    },
    {
      "cell_type": "code",
      "source": [
        "array=np.random.randint(1,100, size=(4,4))\n",
        "split_array=np.split(array,2)\n",
        "print(array)\n",
        "print(split_array)\n"
      ],
      "metadata": {
        "colab": {
          "base_uri": "https://localhost:8080/"
        },
        "id": "nirUjFuzDRkM",
        "outputId": "a5820674-a88e-40ed-9e01-6dc3de463eab"
      },
      "execution_count": 45,
      "outputs": [
        {
          "output_type": "stream",
          "name": "stdout",
          "text": [
            "[[25 57 89 43]\n",
            " [39 75 43 94]\n",
            " [93 44 77 11]\n",
            " [98 94 83 61]]\n",
            "[array([[25, 57, 89, 43],\n",
            "       [39, 75, 43, 94]]), array([[93, 44, 77, 11],\n",
            "       [98, 94, 83, 61]])]\n"
          ]
        }
      ]
    },
    {
      "cell_type": "markdown",
      "source": [
        "# Empresas"
      ],
      "metadata": {
        "id": "DZu4RAiW3mLI"
      }
    },
    {
      "cell_type": "code",
      "source": [
        "survey_responses=np.array([\"bueno\", \"malo\", \"mas o menos\", \"aceptable\",\n",
        "                           \"bueno\", \"malo\", \"mas o menos\", \"aceptable\", \"bueno\",\n",
        "                           \"malo\", \"mas o menos\", \"aceptable\", \"bueno\", \"malo\",\n",
        "                           \"mas o menos\", \"aceptable\", \"qa\", \"qa\",\"qa\"])\n",
        "print(np.unique(survey_responses))"
      ],
      "metadata": {
        "colab": {
          "base_uri": "https://localhost:8080/"
        },
        "id": "WhR3Zvh73aI8",
        "outputId": "9946d9d5-ac3f-407f-b144-4ba7d7119e62"
      },
      "execution_count": 46,
      "outputs": [
        {
          "output_type": "stream",
          "name": "stdout",
          "text": [
            "['aceptable' 'bueno' 'malo' 'mas o menos' 'qa']\n"
          ]
        }
      ]
    },
    {
      "cell_type": "code",
      "source": [
        "unique_elements, counts=np.unique(survey_responses, return_counts=True)\n",
        "print(unique_elements)\n",
        "print(counts)"
      ],
      "metadata": {
        "colab": {
          "base_uri": "https://localhost:8080/"
        },
        "id": "uBMevln74XRe",
        "outputId": "9a572c53-c158-4428-dc00-9cf134fbb08b"
      },
      "execution_count": 47,
      "outputs": [
        {
          "output_type": "stream",
          "name": "stdout",
          "text": [
            "['aceptable' 'bueno' 'malo' 'mas o menos' 'qa']\n",
            "[4 4 4 4 3]\n"
          ]
        }
      ]
    },
    {
      "cell_type": "code",
      "source": [
        "array_x=np.arange(10)\n",
        "view_y=array_x[1:3]\n",
        "print(array_x)\n",
        "print(view_y)\n",
        "array_x[1:3] = [10,11]\n",
        "print(array_x)\n",
        "print(view_y)"
      ],
      "metadata": {
        "colab": {
          "base_uri": "https://localhost:8080/"
        },
        "id": "VUwoXtM65HFT",
        "outputId": "9c5d7f35-1c01-4677-e9f8-aba1d031df46"
      },
      "execution_count": 48,
      "outputs": [
        {
          "output_type": "stream",
          "name": "stdout",
          "text": [
            "[0 1 2 3 4 5 6 7 8 9]\n",
            "[1 2]\n",
            "[ 0 10 11  3  4  5  6  7  8  9]\n",
            "[10 11]\n"
          ]
        }
      ]
    },
    {
      "cell_type": "code",
      "source": [
        "array_x=np.arange(10)\n",
        "copy_x=array_x[[1,2]]\n",
        "print(array_x)\n",
        "print(copy_x)\n",
        "array_x[1:3] = [10,11]\n",
        "print(array_x)\n",
        "print(copy_x)"
      ],
      "metadata": {
        "colab": {
          "base_uri": "https://localhost:8080/"
        },
        "id": "nkCO0vJT6QGP",
        "outputId": "b7548360-34fc-48c1-dbbe-be5832ce6007"
      },
      "execution_count": 49,
      "outputs": [
        {
          "output_type": "stream",
          "name": "stdout",
          "text": [
            "[0 1 2 3 4 5 6 7 8 9]\n",
            "[1 2]\n",
            "[ 0 10 11  3  4  5  6  7  8  9]\n",
            "[1 2]\n"
          ]
        }
      ]
    },
    {
      "cell_type": "markdown",
      "source": [
        "# A^t\n",
        "Transposicion de matrices"
      ],
      "metadata": {
        "id": "HK7je0NF7vR9"
      }
    },
    {
      "cell_type": "code",
      "source": [
        "matrix=np.array([[1,2,3], [4,5,6], [7,8,9]])\n",
        "transposed_matrix=matrix.T\n",
        "print(matrix)\n",
        "print(transposed_matrix)"
      ],
      "metadata": {
        "colab": {
          "base_uri": "https://localhost:8080/"
        },
        "id": "1FiFeZSe70SA",
        "outputId": "b6f25586-a78c-432b-b46c-c187eaa7bfb7"
      },
      "execution_count": 50,
      "outputs": [
        {
          "output_type": "stream",
          "name": "stdout",
          "text": [
            "[[1 2 3]\n",
            " [4 5 6]\n",
            " [7 8 9]]\n",
            "[[1 4 7]\n",
            " [2 5 8]\n",
            " [3 6 9]]\n"
          ]
        }
      ]
    },
    {
      "cell_type": "code",
      "source": [
        "array=np.arange(1,13)\n",
        "reshaped_array=array.reshape(3,4)\n",
        "print(array)\n",
        "print(reshaped_array)"
      ],
      "metadata": {
        "colab": {
          "base_uri": "https://localhost:8080/"
        },
        "id": "glfUf6hCEIYf",
        "outputId": "33a7a9cb-dd5d-402d-e776-7fd1f45957f8"
      },
      "execution_count": 51,
      "outputs": [
        {
          "output_type": "stream",
          "name": "stdout",
          "text": [
            "[ 1  2  3  4  5  6  7  8  9 10 11 12]\n",
            "[[ 1  2  3  4]\n",
            " [ 5  6  7  8]\n",
            " [ 9 10 11 12]]\n"
          ]
        }
      ]
    },
    {
      "cell_type": "code",
      "source": [
        "reversed_array=array[::-1]\n",
        "print(array)\n",
        "print(reversed_array)"
      ],
      "metadata": {
        "colab": {
          "base_uri": "https://localhost:8080/"
        },
        "id": "I-fkD-CsnTxW",
        "outputId": "f9a5830c-ab02-4ffe-9b18-e453687807d0"
      },
      "execution_count": 52,
      "outputs": [
        {
          "output_type": "stream",
          "name": "stdout",
          "text": [
            "[ 1  2  3  4  5  6  7  8  9 10 11 12]\n",
            "[12 11 10  9  8  7  6  5  4  3  2  1]\n"
          ]
        }
      ]
    },
    {
      "cell_type": "code",
      "source": [
        "matrix=np.array([[1,2,3],[4,5,6],[7,8,9]])\n",
        "fattened_array=matrix.flatten()\n",
        "print(matrix)\n",
        "print(fattened_array)"
      ],
      "metadata": {
        "colab": {
          "base_uri": "https://localhost:8080/"
        },
        "id": "eV763oojnork",
        "outputId": "aed02d99-8c32-4031-fa57-97a44c438e45"
      },
      "execution_count": 53,
      "outputs": [
        {
          "output_type": "stream",
          "name": "stdout",
          "text": [
            "[[1 2 3]\n",
            " [4 5 6]\n",
            " [7 8 9]]\n",
            "[1 2 3 4 5 6 7 8 9]\n"
          ]
        }
      ]
    },
    {
      "cell_type": "markdown",
      "source": [
        "# Calculos matriciales"
      ],
      "metadata": {
        "id": "WAfsJXp4ePd4"
      }
    },
    {
      "cell_type": "code",
      "source": [
        "A=np.array([[1,2],[3,4]])\n",
        "B=np.array([[3,4],[7,8]])\n",
        "dot = np.dot(A,B)\n",
        "print (dot)"
      ],
      "metadata": {
        "colab": {
          "base_uri": "https://localhost:8080/"
        },
        "id": "yN3W1dsmgF5k",
        "outputId": "9231e220-7c05-4087-dc03-be5aaaf88597"
      },
      "execution_count": 68,
      "outputs": [
        {
          "output_type": "stream",
          "name": "stdout",
          "text": [
            "[[17 20]\n",
            " [37 44]]\n"
          ]
        }
      ]
    },
    {
      "cell_type": "code",
      "source": [
        "A=np.array([[1,2],[3,4]])\n",
        "det_A=np.linalg.det(A)\n",
        "inversa= np.linalg.inv(A)\n",
        "print(A)\n",
        "print(det_A)\n",
        "print (inversa)"
      ],
      "metadata": {
        "colab": {
          "base_uri": "https://localhost:8080/"
        },
        "id": "UKrs0eragQ4V",
        "outputId": "1aac5ed0-0eb5-403d-a85d-8496f805417b"
      },
      "execution_count": 70,
      "outputs": [
        {
          "output_type": "stream",
          "name": "stdout",
          "text": [
            "[[1 2]\n",
            " [3 4]]\n",
            "-2.0000000000000004\n",
            "[[-2.   1. ]\n",
            " [ 1.5 -0.5]]\n"
          ]
        }
      ]
    },
    {
      "cell_type": "markdown",
      "source": [
        "# Ejercicios"
      ],
      "metadata": {
        "id": "1V6dEPWEhHaa"
      }
    },
    {
      "cell_type": "code",
      "source": [
        "N=np.array([[1,2,3],[4,5,6],[7,8,9]])\n",
        "R=np.array([[9,10,11], [13,24,15], [16,17,18]])\n",
        "print(R)\n",
        "print(N)"
      ],
      "metadata": {
        "colab": {
          "base_uri": "https://localhost:8080/"
        },
        "id": "FrIcSRM4hJn9",
        "outputId": "519b76b2-088d-4996-eca1-3ff322985aad"
      },
      "execution_count": 71,
      "outputs": [
        {
          "output_type": "stream",
          "name": "stdout",
          "text": [
            "[[ 9 10 11]\n",
            " [13 24 15]\n",
            " [16 17 18]]\n",
            "[[1 2 3]\n",
            " [4 5 6]\n",
            " [7 8 9]]\n"
          ]
        }
      ]
    },
    {
      "cell_type": "code",
      "source": [
        "print(N+R)\n",
        "print(R-N)\n",
        "print(R/N)\n",
        "print(N*R)"
      ],
      "metadata": {
        "colab": {
          "base_uri": "https://localhost:8080/"
        },
        "id": "UuWSuLLDhbCP",
        "outputId": "a7dbc7c2-3317-42e3-d31e-97fe7eeac060"
      },
      "execution_count": 73,
      "outputs": [
        {
          "output_type": "stream",
          "name": "stdout",
          "text": [
            "[[10 12 14]\n",
            " [17 29 21]\n",
            " [23 25 27]]\n",
            "[[ 8  8  8]\n",
            " [ 9 19  9]\n",
            " [ 9  9  9]]\n",
            "[[9.         5.         3.66666667]\n",
            " [3.25       4.8        2.5       ]\n",
            " [2.28571429 2.125      2.        ]]\n",
            "[[  9  20  33]\n",
            " [ 52 120  90]\n",
            " [112 136 162]]\n"
          ]
        }
      ]
    },
    {
      "cell_type": "code",
      "source": [
        "import numpy as np\n",
        "\n",
        "N = np.array([[2, 1],\n",
        "              [1, 3]])\n",
        "b = np.array([9, 11])\n",
        "x = np.linalg.solve(N, b)\n",
        "print(x)"
      ],
      "metadata": {
        "colab": {
          "base_uri": "https://localhost:8080/"
        },
        "id": "ipi8yztfjSb_",
        "outputId": "4279e5ab-af1a-4e22-9995-c34353efffd8"
      },
      "execution_count": 90,
      "outputs": [
        {
          "output_type": "stream",
          "name": "stdout",
          "text": [
            "[3.2 2.6]\n"
          ]
        }
      ]
    },
    {
      "cell_type": "markdown",
      "source": [
        "#Media, varianza, desviacion estandar"
      ],
      "metadata": {
        "id": "6S6hAtcyhsYs"
      }
    },
    {
      "cell_type": "code",
      "source": [
        "datos = np.array([23, 76, 35, 67, 89, 45, 68, 79, 35])\n",
        "\n",
        "media = np.mean(datos)\n",
        "mediana = np.median(datos)\n",
        "varianza = np.var(datos)\n",
        "desviacion = np.std(datos)\n",
        "\n",
        "print(\"Media:\", media)\n",
        "print(\"Mediana:\", mediana)\n",
        "print(\"Varianza:\", varianza)\n",
        "print(\"Desviación estándar:\", desviacion)"
      ],
      "metadata": {
        "colab": {
          "base_uri": "https://localhost:8080/"
        },
        "id": "AZUMaJ_shwk9",
        "outputId": "f46fcc54-92fe-4401-b4a7-d170b4e4db85"
      },
      "execution_count": 74,
      "outputs": [
        {
          "output_type": "stream",
          "name": "stdout",
          "text": [
            "Media: 57.44444444444444\n",
            "Mediana: 67.0\n",
            "Varianza: 484.02469135802465\n",
            "Desviación estándar: 22.000561160071\n"
          ]
        }
      ]
    },
    {
      "cell_type": "code",
      "source": [
        "A=np.random.randint(1,10, size=(2,2))\n",
        "E=np.random.randint(10,20, size=(2,2))\n",
        "print(A)\n",
        "print(E)"
      ],
      "metadata": {
        "colab": {
          "base_uri": "https://localhost:8080/"
        },
        "id": "ISvElwZHh9CZ",
        "outputId": "c25c6f85-7e9d-4bb7-cebd-1acffc0cafda"
      },
      "execution_count": 86,
      "outputs": [
        {
          "output_type": "stream",
          "name": "stdout",
          "text": [
            "[[3 3]\n",
            " [9 5]]\n",
            "[[13 11]\n",
            " [14 18]]\n"
          ]
        }
      ]
    },
    {
      "cell_type": "code",
      "source": [
        "print(A+E)\n",
        "print(A*E)\n",
        "print(E-A)\n",
        "print(np.linalg.inv(A))"
      ],
      "metadata": {
        "colab": {
          "base_uri": "https://localhost:8080/"
        },
        "id": "WWacxHhti0GF",
        "outputId": "d847e9b8-f9db-4f20-af4f-bdfccfdb8b43"
      },
      "execution_count": 87,
      "outputs": [
        {
          "output_type": "stream",
          "name": "stdout",
          "text": [
            "[[16 14]\n",
            " [23 23]]\n",
            "[[ 39  33]\n",
            " [126  90]]\n",
            "[[10  8]\n",
            " [ 5 13]]\n",
            "[[-0.41666667  0.25      ]\n",
            " [ 0.75       -0.25      ]]\n"
          ]
        }
      ]
    },
    {
      "cell_type": "code",
      "source": [
        "A=np.random.randint(1,10, size=(2,2))\n",
        "print (A)\n",
        "b= np.array([3,5])\n",
        "print(b)\n",
        "x=np.linalg.solve(A,b)\n",
        "print(x)"
      ],
      "metadata": {
        "colab": {
          "base_uri": "https://localhost:8080/"
        },
        "id": "PNuTyUyij8jo",
        "outputId": "52589609-e300-412a-f32f-296068830bb2"
      },
      "execution_count": 95,
      "outputs": [
        {
          "output_type": "stream",
          "name": "stdout",
          "text": [
            "[[1 7]\n",
            " [6 6]]\n",
            "[3 5]\n",
            "[0.47222222 0.36111111]\n"
          ]
        }
      ]
    },
    {
      "cell_type": "markdown",
      "source": [
        "array de 1000 números aleatorios que sigan una distribución normal con media 0 y desviación estándar 1"
      ],
      "metadata": {
        "id": "-6_My2BgkhRN"
      }
    },
    {
      "cell_type": "code",
      "source": [
        "\n",
        "\n",
        "datos_simulados = np.random.normal(0, 1, 1000)\n",
        "media_simulada = np.mean(datos_simulados)\n",
        "desviacion_simulada = np.std(datos_simulados)\n",
        "\n",
        "print(\"Media de los datos simulados:\", media_simulada)\n",
        "print(\"Desviación estándar de los datos simulados:\", desviacion_simulada)"
      ],
      "metadata": {
        "colab": {
          "base_uri": "https://localhost:8080/"
        },
        "id": "jKxcZIeokZ4d",
        "outputId": "e1d62e3e-7a01-497a-b0e9-13fc9b9b96f4"
      },
      "execution_count": 97,
      "outputs": [
        {
          "output_type": "stream",
          "name": "stdout",
          "text": [
            "Media de los datos simulados: -0.017973013484880226\n",
            "Desviación estándar de los datos simulados: 0.9831866247861485\n"
          ]
        }
      ]
    }
  ]
}