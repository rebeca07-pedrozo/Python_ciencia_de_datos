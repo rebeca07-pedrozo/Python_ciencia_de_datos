{
  "nbformat": 4,
  "nbformat_minor": 0,
  "metadata": {
    "colab": {
      "provenance": [],
      "authorship_tag": "ABX9TyOXAGn45GusCRXW40lgdD3+",
      "include_colab_link": true
    },
    "kernelspec": {
      "name": "python3",
      "display_name": "Python 3"
    },
    "language_info": {
      "name": "python"
    }
  },
  "cells": [
    {
      "cell_type": "markdown",
      "metadata": {
        "id": "view-in-github",
        "colab_type": "text"
      },
      "source": [
        "<a href=\"https://colab.research.google.com/github/rebeca07-pedrozo/Python_ciencia_de_datos/blob/main/colab.ipynb\" target=\"_parent\"><img src=\"https://colab.research.google.com/assets/colab-badge.svg\" alt=\"Open In Colab\"/></a>"
      ]
    },
    {
      "cell_type": "code",
      "execution_count": 2,
      "metadata": {
        "colab": {
          "base_uri": "https://localhost:8080/"
        },
        "id": "rZueyxRng7eV",
        "outputId": "b021f020-5c45-4c71-82d3-0a3f0ed9cef9"
      },
      "outputs": [
        {
          "output_type": "stream",
          "name": "stdout",
          "text": [
            "Requirement already satisfied: numpy in /usr/local/lib/python3.11/dist-packages (2.0.2)\n",
            "Requirement already satisfied: pandas in /usr/local/lib/python3.11/dist-packages (2.2.2)\n",
            "Requirement already satisfied: matplotlib in /usr/local/lib/python3.11/dist-packages (3.10.0)\n",
            "Requirement already satisfied: python-dateutil>=2.8.2 in /usr/local/lib/python3.11/dist-packages (from pandas) (2.9.0.post0)\n",
            "Requirement already satisfied: pytz>=2020.1 in /usr/local/lib/python3.11/dist-packages (from pandas) (2025.2)\n",
            "Requirement already satisfied: tzdata>=2022.7 in /usr/local/lib/python3.11/dist-packages (from pandas) (2025.2)\n",
            "Requirement already satisfied: contourpy>=1.0.1 in /usr/local/lib/python3.11/dist-packages (from matplotlib) (1.3.2)\n",
            "Requirement already satisfied: cycler>=0.10 in /usr/local/lib/python3.11/dist-packages (from matplotlib) (0.12.1)\n",
            "Requirement already satisfied: fonttools>=4.22.0 in /usr/local/lib/python3.11/dist-packages (from matplotlib) (4.58.4)\n",
            "Requirement already satisfied: kiwisolver>=1.3.1 in /usr/local/lib/python3.11/dist-packages (from matplotlib) (1.4.8)\n",
            "Requirement already satisfied: packaging>=20.0 in /usr/local/lib/python3.11/dist-packages (from matplotlib) (24.2)\n",
            "Requirement already satisfied: pillow>=8 in /usr/local/lib/python3.11/dist-packages (from matplotlib) (11.2.1)\n",
            "Requirement already satisfied: pyparsing>=2.3.1 in /usr/local/lib/python3.11/dist-packages (from matplotlib) (3.2.3)\n",
            "Requirement already satisfied: six>=1.5 in /usr/local/lib/python3.11/dist-packages (from python-dateutil>=2.8.2->pandas) (1.17.0)\n"
          ]
        }
      ],
      "source": [
        "!pip install numpy pandas matplotlib"
      ]
    },
    {
      "cell_type": "markdown",
      "source": [
        "**Arrays en numpy**"
      ],
      "metadata": {
        "id": "rd7xiwKyjrUR"
      }
    },
    {
      "cell_type": "code",
      "source": [
        "import numpy as np\n",
        "escalar = np.array(42)\n",
        "print(type(escalar))\n",
        "print(escalar)"
      ],
      "metadata": {
        "colab": {
          "base_uri": "https://localhost:8080/"
        },
        "id": "LKq5qXvdi7AX",
        "outputId": "94eca80e-3913-42df-d907-b13198c54444"
      },
      "execution_count": 1,
      "outputs": [
        {
          "output_type": "stream",
          "name": "stdout",
          "text": [
            "<class 'numpy.ndarray'>\n",
            "42\n"
          ]
        }
      ]
    },
    {
      "cell_type": "code",
      "source": [
        "vector=np.array([1,2,3])\n",
        "print(type(vector))\n",
        "print(vector)"
      ],
      "metadata": {
        "id": "lbe5FdYCk9R8"
      },
      "execution_count": null,
      "outputs": []
    },
    {
      "cell_type": "code",
      "source": [
        "matrix =np.array([[1,2,3], [4,5,6], [7,8,9]])\n",
        "print(matrix)"
      ],
      "metadata": {
        "id": "T1LbsnAElgvU"
      },
      "execution_count": null,
      "outputs": []
    },
    {
      "cell_type": "code",
      "source": [
        "matrix=np.array([[1,2,3],[4,5,6],[7,8,9]])\n",
        "print(matrix)"
      ],
      "metadata": {
        "id": "ZLAfptT8m7yr"
      },
      "execution_count": null,
      "outputs": []
    },
    {
      "cell_type": "code",
      "source": [
        "array_arange=np.arange(10)\n",
        "print(array_arange)"
      ],
      "metadata": {
        "id": "RI_rWImQnp_A"
      },
      "execution_count": null,
      "outputs": []
    },
    {
      "cell_type": "code",
      "source": [
        "eye_matrix=np.eye(6)\n",
        "print(eye_matrix)"
      ],
      "metadata": {
        "id": "AJpk-2Jio4pZ"
      },
      "execution_count": null,
      "outputs": []
    },
    {
      "cell_type": "code",
      "source": [
        "diag= np.diag([1,2,3])\n",
        "print(diag)"
      ],
      "metadata": {
        "id": "1SXouEVXpMBX"
      },
      "execution_count": null,
      "outputs": []
    },
    {
      "cell_type": "code",
      "source": [
        "random =np.random.random((2,4))\n",
        "print(random)"
      ],
      "metadata": {
        "id": "kIILuMYSNX0W"
      },
      "execution_count": null,
      "outputs": []
    },
    {
      "cell_type": "code",
      "source": [
        "array = np.array([[1,2,3],[4,5,6],[7,8,9]])\n",
        "print(array.ndim)\n",
        "print(array.shape)\n",
        "print(array.dtype)"
      ],
      "metadata": {
        "id": "CzY3_5aUN7Hy"
      },
      "execution_count": null,
      "outputs": []
    },
    {
      "cell_type": "code",
      "source": [
        "array = np.array([[1,2,3],[4,5,6]])\n",
        "print(array.shape)"
      ],
      "metadata": {
        "id": "aRqsP08TQBJo"
      },
      "execution_count": null,
      "outputs": []
    },
    {
      "cell_type": "code",
      "source": [
        "z=np.array(8, dtype=np.uint8)\n",
        "print(z)"
      ],
      "metadata": {
        "id": "Q_NLClK4TBYB"
      },
      "execution_count": null,
      "outputs": []
    },
    {
      "cell_type": "code",
      "source": [
        "double_array=np.array([1,2,3], dtype=np.float64)\n",
        "print(double_array)"
      ],
      "metadata": {
        "id": "WX6B6l9mTQqU"
      },
      "execution_count": null,
      "outputs": []
    },
    {
      "cell_type": "code",
      "source": [
        "z=z.astype(np.float64)\n",
        "print(z)"
      ],
      "metadata": {
        "id": "pB17bmGhUD8M"
      },
      "execution_count": null,
      "outputs": []
    },
    {
      "cell_type": "code",
      "source": [
        "array"
      ],
      "metadata": {
        "id": "k6S4LDVBUZ92"
      },
      "execution_count": null,
      "outputs": []
    },
    {
      "cell_type": "code",
      "source": [
        "array=array.astype(np.float64)\n",
        "print(array)"
      ],
      "metadata": {
        "id": "4IU14GfLU68l"
      },
      "execution_count": null,
      "outputs": []
    },
    {
      "cell_type": "code",
      "source": [
        "array = np.array([[1,2,3],[4,5,6]])\n",
        "add = np.sum(array)\n",
        "print(add)"
      ],
      "metadata": {
        "id": "eqD5VMqWgkHe"
      },
      "execution_count": null,
      "outputs": []
    },
    {
      "cell_type": "code",
      "source": [
        "array = np.array([[1,3,4],[7,9,0]])\n",
        "sum = np.sum(array)\n",
        "array = sum\n",
        "print(sum)"
      ],
      "metadata": {
        "id": "3tmaavrChcWl"
      },
      "execution_count": null,
      "outputs": []
    },
    {
      "cell_type": "code",
      "source": [
        "array = np.array([[1,3,4],[7,9,0]])\n",
        "arrai = np.array([[7,9,0],[1,3,4]])\n",
        "sum=np.sum(array+arrai)\n",
        "array_total=sum\n",
        "print(array_total)"
      ],
      "metadata": {
        "id": "Lbq-uwx4iJUZ"
      },
      "execution_count": null,
      "outputs": []
    },
    {
      "cell_type": "code",
      "source": [
        "mean = np.mean(array)\n",
        "print(mean)"
      ],
      "metadata": {
        "id": "fDJWE4VliK_c"
      },
      "execution_count": null,
      "outputs": []
    },
    {
      "cell_type": "code",
      "source": [
        "std=np.std(array)\n",
        "print(std)"
      ],
      "metadata": {
        "id": "lU-xXHPai2Lo"
      },
      "execution_count": null,
      "outputs": []
    },
    {
      "cell_type": "markdown",
      "source": [
        "dot es multiplicar\n"
      ],
      "metadata": {
        "id": "90JQokEijiX1"
      }
    },
    {
      "cell_type": "code",
      "source": [],
      "metadata": {
        "id": "sce5DHzXjkef"
      },
      "execution_count": null,
      "outputs": []
    },
    {
      "cell_type": "markdown",
      "source": [
        "# New Section"
      ],
      "metadata": {
        "id": "2Z3JF5Tdj96j"
      }
    },
    {
      "cell_type": "code",
      "source": [
        "import numpy as np\n",
        "array = np.array([10,20,30,40,50])\n",
        "print(array[1])\n",
        "print(array[-1])"
      ],
      "metadata": {
        "id": "MbEuY1HokAAY"
      },
      "execution_count": null,
      "outputs": []
    },
    {
      "cell_type": "code",
      "source": [
        "print(array[1:4])"
      ],
      "metadata": {
        "id": "ZjPMpZa6lIUM"
      },
      "execution_count": null,
      "outputs": []
    },
    {
      "cell_type": "code",
      "source": [
        "print(array[-1:-7])"
      ],
      "metadata": {
        "id": "ipZsyEPZlhJx"
      },
      "execution_count": null,
      "outputs": []
    },
    {
      "cell_type": "code",
      "source": [
        "print(array[1:7])"
      ],
      "metadata": {
        "id": "iwVrU9IvlpyD"
      },
      "execution_count": null,
      "outputs": []
    },
    {
      "cell_type": "code",
      "source": [
        "array = np.array([10,20,30,40,50])\n",
        "bool_index = array>25\n",
        "print(bool_index)"
      ],
      "metadata": {
        "id": "Uavy2DhWl4y5"
      },
      "execution_count": null,
      "outputs": []
    },
    {
      "cell_type": "code",
      "source": [
        "print(array[2])"
      ],
      "metadata": {
        "id": "gjH4Xj_Ml7mW"
      },
      "execution_count": null,
      "outputs": []
    },
    {
      "cell_type": "code",
      "source": [
        "index=[2,3,4]\n",
        "print(array[index])"
      ],
      "metadata": {
        "id": "Px5QjRaPnT56"
      },
      "execution_count": null,
      "outputs": []
    },
    {
      "cell_type": "code",
      "source": [
        "array=np.random.randint(1,10, size=(3,3))\n",
        "print(array)\n",
        "print(array[0,1])"
      ],
      "metadata": {
        "id": "Pmmn-2zsnqLW"
      },
      "execution_count": null,
      "outputs": []
    },
    {
      "cell_type": "code",
      "source": [
        "print(array[:2,:2])"
      ],
      "metadata": {
        "id": "7j91nherpOej"
      },
      "execution_count": null,
      "outputs": []
    },
    {
      "cell_type": "code",
      "source": [
        "array=np.random.randint(1,100,size=(10,10))\n",
        "print(array)"
      ],
      "metadata": {
        "id": "V26b2MiDpvVa"
      },
      "execution_count": null,
      "outputs": []
    },
    {
      "cell_type": "code",
      "source": [
        "print(array[5:8,5:7])"
      ],
      "metadata": {
        "id": "GeA13XGqp_WS"
      },
      "execution_count": null,
      "outputs": []
    },
    {
      "cell_type": "code",
      "source": [
        "prices=np.array([200,300,400])\n",
        "discount=np.array([0.9])\n",
        "prices_with_discount=prices*discount\n",
        "print(prices_with_discount)"
      ],
      "metadata": {
        "id": "bFaL6Et5sMbK"
      },
      "execution_count": null,
      "outputs": []
    },
    {
      "cell_type": "code",
      "source": [
        "prices=np.random.randint(100,500, size=(3,3))\n",
        "discount=np.array([10,20,30])\n",
        "prices_plus_discount=prices+discount\n",
        "print(prices)\n",
        "print(discount)\n",
        "print(prices_plus_discount)"
      ],
      "metadata": {
        "colab": {
          "base_uri": "https://localhost:8080/"
        },
        "id": "YwMN90qy98Ie",
        "outputId": "748e6a72-b722-462f-bc7b-44f081e1575e"
      },
      "execution_count": null,
      "outputs": [
        {
          "output_type": "stream",
          "name": "stdout",
          "text": [
            "[[227 311 142]\n",
            " [101 254 269]\n",
            " [491 417 398]]\n",
            "[10 20 30]\n",
            "[[237 331 172]\n",
            " [111 274 299]\n",
            " [501 437 428]]\n"
          ]
        }
      ]
    },
    {
      "cell_type": "code",
      "source": [
        "array=np.array([1,2,3,4,5])\n",
        "print(np.all(array>9))\n"
      ],
      "metadata": {
        "colab": {
          "base_uri": "https://localhost:8080/"
        },
        "id": "lJHBFDwd-yqS",
        "outputId": "c0f094a1-85e5-4be1-9467-027eaaba5881"
      },
      "execution_count": null,
      "outputs": [
        {
          "output_type": "stream",
          "name": "stdout",
          "text": [
            "False\n"
          ]
        }
      ]
    },
    {
      "cell_type": "code",
      "source": [
        "print(np.any(array>0))"
      ],
      "metadata": {
        "colab": {
          "base_uri": "https://localhost:8080/"
        },
        "id": "oboV9z0H_LhU",
        "outputId": "99716e1b-28f4-41bc-c4da-4291fc5d1b95"
      },
      "execution_count": null,
      "outputs": [
        {
          "output_type": "stream",
          "name": "stdout",
          "text": [
            "True\n"
          ]
        }
      ]
    },
    {
      "cell_type": "code",
      "source": [
        "from typing import Concatenate\n",
        "array_a=np.array([1,2,3])\n",
        "array_b=np.array([4,5,6])\n",
        "concatenate=np.concatenate([array_a,array_b])\n",
        "print(concatenate)"
      ],
      "metadata": {
        "colab": {
          "base_uri": "https://localhost:8080/"
        },
        "id": "kHZWv2p9_Z4K",
        "outputId": "e57498de-a7e9-442d-ca42-358a4ac67e54"
      },
      "execution_count": null,
      "outputs": [
        {
          "output_type": "stream",
          "name": "stdout",
          "text": [
            "[1 2 3 4 5 6]\n"
          ]
        }
      ]
    },
    {
      "cell_type": "code",
      "source": [
        "stecked_h=np.hstack((array_a,array_b))\n",
        "print(stecked_h)"
      ],
      "metadata": {
        "id": "UtLSNQpk_chQ",
        "colab": {
          "base_uri": "https://localhost:8080/"
        },
        "outputId": "756016af-4d96-4eb5-bc6e-b4d962b543dc"
      },
      "execution_count": null,
      "outputs": [
        {
          "output_type": "stream",
          "name": "stdout",
          "text": [
            "[1 2 3 4 5 6]\n"
          ]
        }
      ]
    },
    {
      "cell_type": "code",
      "source": [
        "array_c=np.arange(1,10)\n",
        "split_array=np.split(array_c,3)\n",
        "print(array_c)\n",
        "print(split_array)"
      ],
      "metadata": {
        "colab": {
          "base_uri": "https://localhost:8080/"
        },
        "id": "k7JNM2YYCT3Z",
        "outputId": "22378292-ee24-4c8e-f357-3515810d6937"
      },
      "execution_count": null,
      "outputs": [
        {
          "output_type": "stream",
          "name": "stdout",
          "text": [
            "[1 2 3 4 5 6 7 8 9]\n",
            "[array([1, 2, 3]), array([4, 5, 6]), array([7, 8, 9])]\n"
          ]
        }
      ]
    },
    {
      "cell_type": "code",
      "source": [
        "array=np.random.randint(1,100, size=(4,4))\n",
        "split_array=np.split(array,2)\n",
        "print(array)\n",
        "print(split_array)\n"
      ],
      "metadata": {
        "colab": {
          "base_uri": "https://localhost:8080/"
        },
        "id": "nirUjFuzDRkM",
        "outputId": "153f4b16-7df4-4efe-f7c6-ab9776c04283"
      },
      "execution_count": 3,
      "outputs": [
        {
          "output_type": "stream",
          "name": "stdout",
          "text": [
            "[[21 51 22 79]\n",
            " [52 22 53 23]\n",
            " [ 3  5 13 30]\n",
            " [19 30 24 20]]\n",
            "[array([[21, 51, 22, 79],\n",
            "       [52, 22, 53, 23]]), array([[ 3,  5, 13, 30],\n",
            "       [19, 30, 24, 20]])]\n"
          ]
        }
      ]
    },
    {
      "cell_type": "markdown",
      "source": [
        "# Empresas"
      ],
      "metadata": {
        "id": "DZu4RAiW3mLI"
      }
    },
    {
      "cell_type": "code",
      "source": [
        "survey_responses=np.array([\"bueno\", \"malo\", \"mas o menos\", \"aceptable\",\n",
        "                           \"bueno\", \"malo\", \"mas o menos\", \"aceptable\", \"bueno\",\n",
        "                           \"malo\", \"mas o menos\", \"aceptable\", \"bueno\", \"malo\",\n",
        "                           \"mas o menos\", \"aceptable\", \"qa\", \"qa\",\"qa\"])\n",
        "print(np.unique(survey_responses))"
      ],
      "metadata": {
        "colab": {
          "base_uri": "https://localhost:8080/"
        },
        "id": "WhR3Zvh73aI8",
        "outputId": "24027309-b50c-40b5-86e7-5b2511c6783c"
      },
      "execution_count": 11,
      "outputs": [
        {
          "output_type": "stream",
          "name": "stdout",
          "text": [
            "['aceptable' 'bueno' 'malo' 'mas o menos' 'qa']\n"
          ]
        }
      ]
    },
    {
      "cell_type": "code",
      "source": [
        "unique_elements, counts=np.unique(survey_responses, return_counts=True)\n",
        "print(unique_elements)\n",
        "print(counts)"
      ],
      "metadata": {
        "colab": {
          "base_uri": "https://localhost:8080/"
        },
        "id": "uBMevln74XRe",
        "outputId": "b1531379-f13f-446b-e26c-16b23c1b6a70"
      },
      "execution_count": 12,
      "outputs": [
        {
          "output_type": "stream",
          "name": "stdout",
          "text": [
            "['aceptable' 'bueno' 'malo' 'mas o menos' 'qa']\n",
            "[4 4 4 4 3]\n"
          ]
        }
      ]
    },
    {
      "cell_type": "code",
      "source": [
        "array_x=np.arange(10)\n",
        "view_y=array_x[1:3]\n",
        "print(array_x)\n",
        "print(view_y)\n",
        "array_x[1:3] = [10,11]\n",
        "print(array_x)\n",
        "print(view_y)"
      ],
      "metadata": {
        "colab": {
          "base_uri": "https://localhost:8080/"
        },
        "id": "VUwoXtM65HFT",
        "outputId": "edd1dc93-5875-46e6-923e-798ac67d5813"
      },
      "execution_count": 16,
      "outputs": [
        {
          "output_type": "stream",
          "name": "stdout",
          "text": [
            "[0 1 2 3 4 5 6 7 8 9]\n",
            "[1 2]\n",
            "[ 0 10 11  3  4  5  6  7  8  9]\n",
            "[10 11]\n"
          ]
        }
      ]
    },
    {
      "cell_type": "code",
      "source": [
        "array_x=np.arange(10)\n",
        "copy_x=array_x[[1,2]]\n",
        "print(array_x)\n",
        "print(copy_x)\n",
        "array_x[1:3] = [10,11]\n",
        "print(array_x)\n",
        "print(copy_x)"
      ],
      "metadata": {
        "colab": {
          "base_uri": "https://localhost:8080/"
        },
        "id": "nkCO0vJT6QGP",
        "outputId": "12d0a279-2e10-4c9d-991e-8aa3a459517f"
      },
      "execution_count": 18,
      "outputs": [
        {
          "output_type": "stream",
          "name": "stdout",
          "text": [
            "[0 1 2 3 4 5 6 7 8 9]\n",
            "[1 2]\n",
            "[ 0 10 11  3  4  5  6  7  8  9]\n",
            "[1 2]\n"
          ]
        }
      ]
    }
  ]
}